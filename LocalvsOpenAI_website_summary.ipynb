{
 "cells": [
  {
   "cell_type": "markdown",
   "id": "fa720f5e-1cee-43d4-9398-3fa7927b46f7",
   "metadata": {},
   "source": [
    "# Brief Description\n",
    "\n",
    "In this notebook, I will try to explore which model is better at summarizing the content of a web page, crawled and parsed by Beautiful Soup. \n",
    "\n",
    "I will use two approaches. \n",
    "The first approach is to use OpenAI API.\n",
    "The second approach is to run local models."
   ]
  },
  {
   "cell_type": "markdown",
   "id": "2b9c572e-c27b-4812-af5c-ce6e29e38f4c",
   "metadata": {},
   "source": [
    "# First Approach: Using OpenAI API"
   ]
  },
  {
   "cell_type": "code",
   "execution_count": 2,
   "id": "b4dfeba6-3f56-43c1-b865-4824ff115e9c",
   "metadata": {},
   "outputs": [],
   "source": [
    "# imports\n",
    "\n",
    "import os\n",
    "import requests\n",
    "from dotenv import load_dotenv\n",
    "from bs4 import BeautifulSoup\n",
    "from IPython.display import Markdown, display\n",
    "from openai import OpenAI\n",
    "\n",
    "# If you get an error running this cell, then please head over to the troubleshooting notebook!"
   ]
  },
  {
   "cell_type": "markdown",
   "id": "3b22ecc8-7ddd-4f73-a5bc-5ccd492b2c1e",
   "metadata": {},
   "source": [
    "**Connecting to OpenAI**"
   ]
  },
  {
   "cell_type": "code",
   "execution_count": 3,
   "id": "fe8771e6-7bb4-4013-82b2-92a3d6c6a323",
   "metadata": {},
   "outputs": [
    {
     "name": "stdout",
     "output_type": "stream",
     "text": [
      "API key found and looks good so far!\n"
     ]
    }
   ],
   "source": [
    "# Load environment variables in a file called .env\n",
    "\n",
    "load_dotenv(override=True)\n",
    "api_key = os.getenv('OPENAI_API_KEY')\n",
    "\n",
    "# Check the key\n",
    "\n",
    "if not api_key:\n",
    "    print(\"No API key was found - please head over to the troubleshooting notebook in this folder to identify & fix!\")\n",
    "elif not api_key.startswith(\"sk-proj-\"):\n",
    "    print(\"An API key was found, but it doesn't start sk-proj-; please check you're using the right key - see troubleshooting notebook\")\n",
    "elif api_key.strip() != api_key:\n",
    "    print(\"An API key was found, but it looks like it might have space or tab characters at the start or end - please remove them - see troubleshooting notebook\")\n",
    "else:\n",
    "    print(\"API key found and looks good so far!\")"
   ]
  },
  {
   "cell_type": "code",
   "execution_count": 4,
   "id": "56a4ecad-61c3-460c-8d67-0a8ca73aff29",
   "metadata": {},
   "outputs": [],
   "source": [
    "openai = OpenAI()"
   ]
  },
  {
   "cell_type": "markdown",
   "id": "08f9ecae-59f4-4d06-acd3-3979644ef4a2",
   "metadata": {},
   "source": [
    "Testing a quick call to a Frontier model - gpt-4o-mini"
   ]
  },
  {
   "cell_type": "code",
   "execution_count": 5,
   "id": "64103f0c-97ba-46b9-a4af-249634c7e827",
   "metadata": {},
   "outputs": [
    {
     "name": "stdout",
     "output_type": "stream",
     "text": [
      "Hello! Welcome to your learning journey! I'm so glad you're here, and I'm more than happy to help you with anything you need. Don't hesitate to ask questions or share what you're curious about. Let's make this a great experience together!\n"
     ]
    }
   ],
   "source": [
    "# To give you a preview -- calling OpenAI with these messages is this easy. Any problems, head over to the Troubleshooting notebook.\n",
    "\n",
    "message = \"Hello, GPT! This is my first ever message to you! Please be nice to me as I have started my learning journey!!\"\n",
    "response = openai.chat.completions.create(model=\"gpt-4o-mini\", messages=[{\"role\":\"user\", \"content\":message}])\n",
    "print(response.choices[0].message.content)"
   ]
  },
  {
   "cell_type": "markdown",
   "id": "2c7d7a73-56ae-4bef-9b04-34e4beb880f4",
   "metadata": {},
   "source": [
    "**Starting the project**"
   ]
  },
  {
   "cell_type": "code",
   "execution_count": 6,
   "id": "03bb9d1f-b093-481c-a692-a9f250f7e740",
   "metadata": {},
   "outputs": [],
   "source": [
    "# A class to represent a Webpage\n",
    "# If you're not familiar with Classes, check out the \"Intermediate Python\" notebook\n",
    "\n",
    "# Some websites need you to use proper headers when fetching them:\n",
    "headers = {\n",
    " \"User-Agent\": \"Mozilla/5.0 (Windows NT 10.0; Win64; x64) AppleWebKit/537.36 (KHTML, like Gecko) Chrome/117.0.0.0 Safari/537.36\"\n",
    "}\n",
    "\n",
    "class Website:\n",
    "\n",
    "    def __init__(self, url):\n",
    "        \"\"\"\n",
    "        Create this Website object from the given url using the BeautifulSoup library\n",
    "        \"\"\"\n",
    "        self.url = url\n",
    "        response = requests.get(url, headers=headers)\n",
    "        soup = BeautifulSoup(response.content, 'html.parser')\n",
    "        self.title = soup.title.string if soup.title else \"No title found\"\n",
    "        for irrelevant in soup.body([\"script\", \"style\", \"img\", \"input\"]):\n",
    "            irrelevant.decompose()\n",
    "        self.text = soup.body.get_text(separator=\"\\n\", strip=True)"
   ]
  },
  {
   "cell_type": "code",
   "execution_count": 7,
   "id": "a1ce7d91-42dc-4b47-8d94-81565e12690e",
   "metadata": {},
   "outputs": [
    {
     "name": "stdout",
     "output_type": "stream",
     "text": [
      "A blog by ZinKo\n",
      "A blog by ZinKo\n",
      "Home\n",
      "About\n",
      "Sign in\n",
      "Subscribe\n",
      "Thoughts, stories and ideas.\n",
      "Subscribe below to receive my latest posts directly in your inbox. Promise no spams!\n",
      "jamie@example.com\n",
      "Subscribe\n",
      "Trip to New Zealand - Queenstown!\n",
      "Jan 27, 2025\n",
      "1 min read\n",
      "Hello from my new blog!\n",
      "Nov 8, 2024\n",
      "1 min read\n",
      "My Experience with Georgia Tech OMSA Program Part-4\n",
      "May 1, 2024\n",
      "6 min read\n",
      "My Experience with Georgia Tech OMSA Program Part-3\n",
      "Apr 30, 2024\n",
      "3 min read\n",
      "My Experience with Georgia Tech OMSA Program Part-2\n",
      "Apr 29, 2024\n",
      "4 min read\n",
      "My Experience with Georgia Tech OMSA Program Part-1\n",
      "Mar 25, 2024\n",
      "3 min read\n",
      "A blog by ZinKo © 2025. Powered by\n",
      "Ghost\n"
     ]
    }
   ],
   "source": [
    "# testing the website functionality\n",
    "\n",
    "zkh = Website(\"https://zinkohlaing.com\")\n",
    "print(zkh.title)\n",
    "print(zkh.text)"
   ]
  },
  {
   "cell_type": "markdown",
   "id": "4fc57c93-3405-4e67-9343-beedcb003dd1",
   "metadata": {},
   "source": [
    "**Defining system prompt versus user prompt**"
   ]
  },
  {
   "cell_type": "code",
   "execution_count": 8,
   "id": "7ad52b76-6f9b-4aa5-9c21-8a3757d0b0d2",
   "metadata": {},
   "outputs": [],
   "source": [
    "# Define our system prompt - you can experiment with this later, changing the last sentence to 'Respond in markdown in Spanish.\"\n",
    "\n",
    "system_prompt = \"You are an assistant that analyzes the contents of a website \\\n",
    "and provides a short summary, ignoring text that might be navigation related. \\\n",
    "Respond in markdown.\""
   ]
  },
  {
   "cell_type": "code",
   "execution_count": 10,
   "id": "4aad8042-3eac-4eb9-a820-421b6117a34b",
   "metadata": {},
   "outputs": [],
   "source": [
    "# A function that writes a User Prompt that asks for summaries of websites:\n",
    "\n",
    "def user_prompt_for(website):\n",
    "    user_prompt = f\"You are looking at a website titled {website.title}\"\n",
    "    user_prompt += \"\\nThe contents of this website is as follows; \\\n",
    "please provide a short summary of this website in markdown. \\\n",
    "If it includes news or announcements, then summarize these too.\\n\\n\"\n",
    "    user_prompt += website.text\n",
    "    return user_prompt"
   ]
  },
  {
   "cell_type": "code",
   "execution_count": 11,
   "id": "77e1d1ff-5def-46d4-964e-233dcd447ef9",
   "metadata": {},
   "outputs": [
    {
     "name": "stdout",
     "output_type": "stream",
     "text": [
      "You are looking at a website titled A blog by ZinKo\n",
      "The contents of this website is as follows; please provide a short summary of this website in markdown. If it includes news or announcements, then summarize these too.\n",
      "\n",
      "A blog by ZinKo\n",
      "Home\n",
      "About\n",
      "Sign in\n",
      "Subscribe\n",
      "Thoughts, stories and ideas.\n",
      "Subscribe below to receive my latest posts directly in your inbox. Promise no spams!\n",
      "jamie@example.com\n",
      "Subscribe\n",
      "Trip to New Zealand - Queenstown!\n",
      "Jan 27, 2025\n",
      "1 min read\n",
      "Hello from my new blog!\n",
      "Nov 8, 2024\n",
      "1 min read\n",
      "My Experience with Georgia Tech OMSA Program Part-4\n",
      "May 1, 2024\n",
      "6 min read\n",
      "My Experience with Georgia Tech OMSA Program Part-3\n",
      "Apr 30, 2024\n",
      "3 min read\n",
      "My Experience with Georgia Tech OMSA Program Part-2\n",
      "Apr 29, 2024\n",
      "4 min read\n",
      "My Experience with Georgia Tech OMSA Program Part-1\n",
      "Mar 25, 2024\n",
      "3 min read\n",
      "A blog by ZinKo © 2025. Powered by\n",
      "Ghost\n"
     ]
    }
   ],
   "source": [
    "print(user_prompt_for(zkh))"
   ]
  },
  {
   "cell_type": "markdown",
   "id": "24a38a75-8354-4b32-b38b-4cccf636d15f",
   "metadata": {},
   "source": [
    "**Designing messages structure for OpenAI API**"
   ]
  },
  {
   "cell_type": "code",
   "execution_count": 16,
   "id": "1d56a625-983c-44cb-8050-1cff914ae869",
   "metadata": {},
   "outputs": [],
   "source": [
    "# example\n",
    "messages = [\n",
    "    {\"role\": \"system\", \"content\": \"You are a nerdy assistant who likes to use GenZ lingo to explain things.\"},\n",
    "    {\"role\": \"user\", \"content\": \"What is the meaning of a universe?\"}\n",
    "]"
   ]
  },
  {
   "cell_type": "code",
   "execution_count": 17,
   "id": "0d13e872-7061-4e1a-b742-ee94553655e5",
   "metadata": {},
   "outputs": [
    {
     "name": "stdout",
     "output_type": "stream",
     "text": [
      "Alright, fam, let’s break it down. The universe is basically everything, like the ultimate vibe check of existence. 🌌 It includes all the stars, planets, galaxies, and even the empty spaces in between. Think of it as the biggest group chat ever where everything from cosmic dust to supernovae is chilling together.\n",
      "\n",
      "In more scientific terms, it’s the totality of space-time and all the matter and energy that exists. It’s estimated to be around 13.8 billion years old, which is like, ancient AF. So yeah, the universe is the ultimate canvas, stretching way beyond what we can even see with our telescopes. It's literally the GOAT of all things! 🚀✨\n"
     ]
    }
   ],
   "source": [
    "# To give you a preview -- calling OpenAI with system and user messages:\n",
    "\n",
    "response = openai.chat.completions.create(model=\"gpt-4o-mini\", messages=messages)\n",
    "print(response.choices[0].message.content)"
   ]
  },
  {
   "cell_type": "markdown",
   "id": "e0e20505-7a88-4c38-b0ab-4b9d0a7b4f01",
   "metadata": {},
   "source": [
    "Now back to our project, we will build a function to write messages for GPT model."
   ]
  },
  {
   "cell_type": "code",
   "execution_count": 18,
   "id": "40e7afda-9746-4fe8-9fc2-bf8ad9997912",
   "metadata": {},
   "outputs": [],
   "source": [
    "def messages_for(website):\n",
    "    return [\n",
    "        {\"role\": \"system\", \"content\": system_prompt},\n",
    "        {\"role\": \"user\", \"content\": user_prompt_for(website)}\n",
    "    ]"
   ]
  },
  {
   "cell_type": "code",
   "execution_count": 19,
   "id": "09ffb975-55ed-4335-9683-f7d39cde22f0",
   "metadata": {},
   "outputs": [
    {
     "data": {
      "text/plain": [
       "[{'role': 'system',\n",
       "  'content': 'You are an assistant that analyzes the contents of a website and provides a short summary, ignoring text that might be navigation related. Respond in markdown.'},\n",
       " {'role': 'user',\n",
       "  'content': 'You are looking at a website titled A blog by ZinKo\\nThe contents of this website is as follows; please provide a short summary of this website in markdown. If it includes news or announcements, then summarize these too.\\n\\nA blog by ZinKo\\nHome\\nAbout\\nSign in\\nSubscribe\\nThoughts, stories and ideas.\\nSubscribe below to receive my latest posts directly in your inbox. Promise no spams!\\njamie@example.com\\nSubscribe\\nTrip to New Zealand - Queenstown!\\nJan 27, 2025\\n1 min read\\nHello from my new blog!\\nNov 8, 2024\\n1 min read\\nMy Experience with Georgia Tech OMSA Program Part-4\\nMay 1, 2024\\n6 min read\\nMy Experience with Georgia Tech OMSA Program Part-3\\nApr 30, 2024\\n3 min read\\nMy Experience with Georgia Tech OMSA Program Part-2\\nApr 29, 2024\\n4 min read\\nMy Experience with Georgia Tech OMSA Program Part-1\\nMar 25, 2024\\n3 min read\\nA blog by ZinKo © 2025. Powered by\\nGhost'}]"
      ]
     },
     "execution_count": 19,
     "metadata": {},
     "output_type": "execute_result"
    }
   ],
   "source": [
    "messages_for(zkh)"
   ]
  },
  {
   "cell_type": "markdown",
   "id": "e69669c0-6675-4836-b21a-118b637ea87b",
   "metadata": {},
   "source": [
    "**Calling OpenAI API**\n",
    "\n",
    "This is the final step to call OpenAI to return the summary of a website."
   ]
  },
  {
   "cell_type": "code",
   "execution_count": 20,
   "id": "997393a5-b5fc-4461-94e6-b7a5962453f3",
   "metadata": {},
   "outputs": [],
   "source": [
    "# And now: call the OpenAI API. You will get very familiar with this!\n",
    "\n",
    "def summarize(url):\n",
    "    website = Website(url)\n",
    "    response = openai.chat.completions.create(\n",
    "        model = \"gpt-4o-mini\",\n",
    "        messages = messages_for(website)\n",
    "    )\n",
    "    return response.choices[0].message.content"
   ]
  },
  {
   "cell_type": "code",
   "execution_count": 21,
   "id": "27a20bf5-341b-444a-a193-a0fc0542ba83",
   "metadata": {},
   "outputs": [
    {
     "data": {
      "text/plain": [
       "'# Summary of \"A blog by ZinKo\"\\n\\n\"A blog by ZinKo\" is a personal blog focused on sharing thoughts, stories, and ideas. The author encourages readers to subscribe to receive updates directly in their inbox.\\n\\n## Recent Posts\\n- **Trip to New Zealand - Queenstown!** (Jan 27, 2025) - A brief post about a trip to Queenstown.\\n- **Hello from my new blog!** (Nov 8, 2024) - An introductory post welcoming visitors to the blog.\\n- **My Experience with Georgia Tech OMSA Program** series:\\n  - **Part-4** (May 1, 2024) - Continuation of experiences in the program, focusing on a specific aspect.\\n  - **Part-3** (Apr 30, 2024) - Insights shared from the previous segment.\\n  - **Part-2** (Apr 29, 2024) - Further reflections on the program experience.\\n  - **Part-1** (Mar 25, 2024) - An initial overview of the author\\'s journey through the program.\\n\\nThe blog showcases a blend of travel experiences and educational insights from the author\\'s academic journey.'"
      ]
     },
     "execution_count": 21,
     "metadata": {},
     "output_type": "execute_result"
    }
   ],
   "source": [
    "summarize(\"https://zinkohlaing.com\")"
   ]
  },
  {
   "cell_type": "code",
   "execution_count": 22,
   "id": "a31d42e2-8d24-4f4c-9650-a8306502086a",
   "metadata": {},
   "outputs": [],
   "source": [
    "# A function to display this nicely in the Jupyter output, using markdown\n",
    "\n",
    "def display_summary(url):\n",
    "    summary = summarize(url)\n",
    "    display(Markdown(summary))"
   ]
  },
  {
   "cell_type": "code",
   "execution_count": 23,
   "id": "ed94d5c4-03a6-4cab-adbb-32dbe5d56d7f",
   "metadata": {},
   "outputs": [
    {
     "data": {
      "text/markdown": [
       "# Summary of \"A blog by ZinKo\"\n",
       "\n",
       "**About the Blog:**  \n",
       "\"A blog by ZinKo\" features thoughts, stories, and ideas from the author, ZinKo. Readers are encouraged to subscribe for the latest posts via email, with a promise of no spam.\n",
       "\n",
       "## Recent Posts:\n",
       "1. **Trip to New Zealand - Queenstown!**  \n",
       "   *Date:* Jan 27, 2025  \n",
       "   *Read Time:* 1 min  \n",
       "\n",
       "2. **Hello from my new blog!**  \n",
       "   *Date:* Nov 8, 2024  \n",
       "   *Read Time:* 1 min  \n",
       "\n",
       "3. **My Experience with Georgia Tech OMSA Program Part-4**  \n",
       "   *Date:* May 1, 2024  \n",
       "   *Read Time:* 6 min  \n",
       "\n",
       "4. **My Experience with Georgia Tech OMSA Program Part-3**  \n",
       "   *Date:* Apr 30, 2024  \n",
       "   *Read Time:* 3 min  \n",
       "\n",
       "5. **My Experience with Georgia Tech OMSA Program Part-2**  \n",
       "   *Date:* Apr 29, 2024  \n",
       "   *Read Time:* 4 min  \n",
       "\n",
       "6. **My Experience with Georgia Tech OMSA Program Part-1**  \n",
       "   *Date:* Mar 25, 2024  \n",
       "   *Read Time:* 3 min  \n",
       "\n",
       "The blog appears to include a series of posts about the Georgia Tech OMSA program, detailing the author's experiences in multiple parts, alongside personal travel reflections."
      ],
      "text/plain": [
       "<IPython.core.display.Markdown object>"
      ]
     },
     "metadata": {},
     "output_type": "display_data"
    }
   ],
   "source": [
    "display_summary(\"https://zinkohlaing.com\")"
   ]
  },
  {
   "cell_type": "code",
   "execution_count": 24,
   "id": "c9a28153-12d2-4703-afa6-b47b219d1c7b",
   "metadata": {},
   "outputs": [
    {
     "data": {
      "text/markdown": [
       "# Summary of The New York Times Website\n",
       "\n",
       "The New York Times provides comprehensive coverage of breaking news across multiple categories including U.S. news, world affairs, politics, business, culture, and lifestyle. Readers can explore in-depth articles, analyses, and opinion pieces covering significant global events such as the ongoing Russia-Ukraine war, the Middle East crisis, and U.S. domestic policies under the Trump administration.\n",
       "\n",
       "### Key Highlights:\n",
       "- **U.S. News**: The site covers a range of topics including significant political developments, budget plans, and social issues like poverty in New York City.\n",
       "- **International News**: Articles delve into international relations, with recent discussions around U.S.-China dynamics and political changes in Syria.\n",
       "- **Business**: Insights into economic trends with a focus on the U.S. economy and corporate strategies, including BP's shift in investment towards fossil fuels.\n",
       "- **Arts and Lifestyle**: Features on entertainment, including awards season coverage and cultural critiques.\n",
       "- **Opinion Section**: Offers varied perspectives from well-known writers on current topics, with analysis on complications in U.S. politics and societal changes.\n",
       "\n",
       "### Notable Recent Articles:\n",
       "- **Trump's New Crackdown on China**: Discussion on the administration's measures against Chinese investments.\n",
       "- **As Poverty Rises in New York City**: Statistics revealing an alarming poverty rate almost double the national average.\n",
       "- **Chile Declares Curfew**: Coverage of a power outage resulting in a nationwide curfew.\n",
       "- **Unknown Deadly Illness in Congo**: Reports of an illness possibly linked to bat consumption.\n",
       "\n",
       "The website also features podcasts, newsletters, and interactive games, making it a versatile source for news consumption and engagement."
      ],
      "text/plain": [
       "<IPython.core.display.Markdown object>"
      ]
     },
     "metadata": {},
     "output_type": "display_data"
    }
   ],
   "source": [
    "#let's try the busy website like NYT!\n",
    "display_summary(\"https://www.nytimes.com/\")"
   ]
  },
  {
   "cell_type": "markdown",
   "id": "f40c0624-b887-461e-930f-97bb0cc75961",
   "metadata": {},
   "source": [
    "# Second Approach: Using locally run LLM models"
   ]
  },
  {
   "cell_type": "markdown",
   "id": "7cd97d97-fa3a-451e-8309-a5c7892e6181",
   "metadata": {},
   "source": [
    "First, you need to install Ollama in your computer. Once installed, open the app and visit http://localhost:11434/\n",
    "\n",
    "You should see the message Ollama is running."
   ]
  },
  {
   "cell_type": "code",
   "execution_count": 25,
   "id": "8d3d4e0a-10f7-46a2-b319-7f3b8d2dcb30",
   "metadata": {},
   "outputs": [],
   "source": [
    "import ollama"
   ]
  },
  {
   "cell_type": "markdown",
   "id": "71eb973b-8367-4483-a7ce-b30be0e14e81",
   "metadata": {},
   "source": [
    "**Starting with llama3.2 model**"
   ]
  },
  {
   "cell_type": "code",
   "execution_count": 26,
   "id": "6ffb5f36-61ea-44b5-a38b-f0782f06031c",
   "metadata": {},
   "outputs": [
    {
     "name": "stdout",
     "output_type": "stream",
     "text": [
      "\u001b[?25lpulling manifest ⠋ \u001b[?25h\u001b[?25l\u001b[2K\u001b[1Gpulling manifest ⠙ \u001b[?25h\u001b[?25l\u001b[2K\u001b[1Gpulling manifest ⠹ \u001b[?25h\u001b[?25l\u001b[2K\u001b[1Gpulling manifest ⠸ \u001b[?25h\u001b[?25l\u001b[2K\u001b[1Gpulling manifest ⠼ \u001b[?25h\u001b[?25l\u001b[2K\u001b[1Gpulling manifest ⠴ \u001b[?25h\u001b[?25l\u001b[2K\u001b[1Gpulling manifest ⠦ \u001b[?25h\u001b[?25l\u001b[2K\u001b[1Gpulling manifest ⠧ \u001b[?25h\u001b[?25l\u001b[2K\u001b[1Gpulling manifest ⠇ \u001b[?25h\u001b[?25l\u001b[2K\u001b[1Gpulling manifest ⠏ \u001b[?25h\u001b[?25l\u001b[2K\u001b[1Gpulling manifest ⠋ \u001b[?25h\u001b[?25l\u001b[2K\u001b[1Gpulling manifest ⠙ \u001b[?25h\u001b[?25l\u001b[2K\u001b[1Gpulling manifest ⠸ \u001b[?25h\u001b[?25l\u001b[2K\u001b[1Gpulling manifest ⠸ \u001b[?25h\u001b[?25l\u001b[2K\u001b[1Gpulling manifest ⠼ \u001b[?25h\u001b[?25l\u001b[2K\u001b[1Gpulling manifest ⠴ \u001b[?25h\u001b[?25l\u001b[2K\u001b[1Gpulling manifest ⠦ \u001b[?25h\u001b[?25l\u001b[2K\u001b[1Gpulling manifest ⠧ \u001b[?25h\u001b[?25l\u001b[2K\u001b[1Gpulling manifest ⠇ \u001b[?25h\u001b[?25l\u001b[2K\u001b[1Gpulling manifest ⠏ \u001b[?25h\u001b[?25l\u001b[2K\u001b[1Gpulling manifest ⠋ \u001b[?25h\u001b[?25l\u001b[2K\u001b[1Gpulling manifest ⠙ \u001b[?25h\u001b[?25l\u001b[2K\u001b[1Gpulling manifest \n",
      "pulling dde5aa3fc5ff... 100% ▕████████████████▏ 2.0 GB                         \n",
      "pulling 966de95ca8a6... 100% ▕████████████████▏ 1.4 KB                         \n",
      "pulling fcc5a6bec9da... 100% ▕████████████████▏ 7.7 KB                         \n",
      "pulling a70ff7e570d9... 100% ▕████████████████▏ 6.0 KB                         \n",
      "pulling 56bb8bd477a5... 100% ▕████████████████▏   96 B                         \n",
      "pulling 34bb5ab01051... 100% ▕████████████████▏  561 B                         \n",
      "verifying sha256 digest \n",
      "writing manifest \n",
      "success \u001b[?25h\n"
     ]
    }
   ],
   "source": [
    "# Let's just make sure the model is loaded\n",
    "\n",
    "!ollama pull llama3.2"
   ]
  },
  {
   "cell_type": "code",
   "execution_count": 37,
   "id": "297fd5d4-72e3-4d4d-9ed2-904bcc10271d",
   "metadata": {},
   "outputs": [],
   "source": [
    "# define model constant\n",
    "model = \"llama3.2\""
   ]
  },
  {
   "cell_type": "markdown",
   "id": "1c45ec85-aba1-4bbf-8727-50b84c325cee",
   "metadata": {},
   "source": [
    "We will now need to rewrite our function to suit with Ollama package."
   ]
  },
  {
   "cell_type": "code",
   "execution_count": 38,
   "id": "f00af542-9bd0-414e-8d0e-89f985750098",
   "metadata": {},
   "outputs": [],
   "source": [
    "# new function, let's name it summarize_local not to get confused.\n",
    "\n",
    "def summarize_local(url):\n",
    "    website = Website(url)\n",
    "    response = ollama.chat(\n",
    "        model = model,\n",
    "        messages = messages_for(website)\n",
    "    )\n",
    "    return response['message']['content']"
   ]
  },
  {
   "cell_type": "code",
   "execution_count": 39,
   "id": "5e8e4992-dd3c-4863-90c1-73524757a579",
   "metadata": {},
   "outputs": [
    {
     "data": {
      "text/plain": [
       "'# Summary of A Blog by ZinKo\\n\\n*   The website is a personal blog written by ZinKo.\\n*   It features a mix of stories, experiences, and ideas shared by the author.\\n*   News and Announcements:\\n    *   \"Trip to New Zealand - Queenstown!\" (January 27, 2025) - A recent post about visiting Queenstown in New Zealand.\\n    *   \"Hello from my new blog!\" (November 8, 2024) - An introduction to the author\\'s new blog.'"
      ]
     },
     "execution_count": 39,
     "metadata": {},
     "output_type": "execute_result"
    }
   ],
   "source": [
    "# now let's test\n",
    "summarize_local(\"https://zinkohlaing.com\")"
   ]
  },
  {
   "cell_type": "code",
   "execution_count": 40,
   "id": "11646949-ade2-4215-a9a9-7f5a39da4d40",
   "metadata": {},
   "outputs": [],
   "source": [
    "# nice. so let's make it pretty\n",
    "\n",
    "# A function to display this nicely in the Jupyter output, using markdown\n",
    "\n",
    "def display_summary_local(url):\n",
    "    summary_local = summarize_local(url)\n",
    "    display(Markdown(summary_local))"
   ]
  },
  {
   "cell_type": "code",
   "execution_count": 42,
   "id": "4813b1f9-5676-40e4-8d03-2521ff8c18a1",
   "metadata": {},
   "outputs": [
    {
     "data": {
      "text/markdown": [
       "**Summary of A Blog by ZinKo**\n",
       "==========================\n",
       "\n",
       "*   The website is a personal blog where the author shares their thoughts, stories, and ideas.\n",
       "*   It appears to be a personal blog with a focus on storytelling, rather than a news or informational website.\n",
       "*   **Recent Posts:**\n",
       "\n",
       "    *   \"Trip to New Zealand - Queenstown!\" (January 27, 2025) - A travel post about the author's experience in Queenstown, New Zealand.\n",
       "    *   \"Hello from my new blog!\" (November 8, 2024) - An introductory post welcoming readers to the blog.\n",
       "*   The blog seems to be relatively new, with most posts dating back to 2024 or earlier."
      ],
      "text/plain": [
       "<IPython.core.display.Markdown object>"
      ]
     },
     "metadata": {},
     "output_type": "display_data"
    }
   ],
   "source": [
    "display_summary_local(\"https://zinkohlaing.com\")"
   ]
  },
  {
   "cell_type": "markdown",
   "id": "bc8d8c29-e3e0-4c00-99ce-5cc632b7371e",
   "metadata": {},
   "source": [
    "**Observations:**\n",
    "\n",
    "As you can see, the response from local model is not that great compared to OpenAI. Sometimes, it is really bad, as it will make up the author name or active date."
   ]
  },
  {
   "cell_type": "markdown",
   "id": "dd927eb5-7625-46dd-874f-67699ae4112a",
   "metadata": {},
   "source": [
    "**Trying this on busy traffic site**"
   ]
  },
  {
   "cell_type": "code",
   "execution_count": 43,
   "id": "88c2f12d-34ef-458b-b40d-98420162a765",
   "metadata": {},
   "outputs": [
    {
     "data": {
      "text/markdown": [
       "It appears that you've entered a New York Times website, but the page seems to be in an unclear state. The content is mixed with articles, news, and other sections like audio, games, and puzzles.\n",
       "\n",
       "To help you better, I'll need more information on what specific section or topic you're looking for. Are you interested in:\n",
       "\n",
       "1. News and current events?\n",
       "2. Entertainment (movies, TV, music, etc.)?\n",
       "3. Sports?\n",
       "4. Science and technology?\n",
       "5. Something else?\n",
       "\n",
       "Please let me know, and I can try to assist you with a more focused response!"
      ],
      "text/plain": [
       "<IPython.core.display.Markdown object>"
      ]
     },
     "metadata": {},
     "output_type": "display_data"
    }
   ],
   "source": [
    "display_summary_local(\"https://nytimes.com\")"
   ]
  },
  {
   "cell_type": "markdown",
   "id": "6008982e-a263-4bee-a18f-2ce2853eb53f",
   "metadata": {},
   "source": [
    "**Observation**\n",
    "\n",
    "For NYT, it looks a bit weird as the model can't seem to interpret well."
   ]
  },
  {
   "cell_type": "markdown",
   "id": "19f89922-1bfd-4bef-aef6-00169980eac0",
   "metadata": {},
   "source": [
    "**Trying out Deepseek**"
   ]
  },
  {
   "cell_type": "code",
   "execution_count": 36,
   "id": "2a7485e0-9fb0-47f6-810b-a03a9cbe47fe",
   "metadata": {},
   "outputs": [
    {
     "name": "stdout",
     "output_type": "stream",
     "text": [
      "\u001b[?25lpulling manifest ⠋ \u001b[?25h\u001b[?25l\u001b[2K\u001b[1Gpulling manifest ⠙ \u001b[?25h\u001b[?25l\u001b[2K\u001b[1Gpulling manifest ⠹ \u001b[?25h\u001b[?25l\u001b[2K\u001b[1Gpulling manifest ⠸ \u001b[?25h\u001b[?25l\u001b[2K\u001b[1Gpulling manifest ⠼ \u001b[?25h\u001b[?25l\u001b[2K\u001b[1Gpulling manifest ⠴ \u001b[?25h\u001b[?25l\u001b[2K\u001b[1Gpulling manifest ⠦ \u001b[?25h\u001b[?25l\u001b[2K\u001b[1Gpulling manifest ⠧ \u001b[?25h\u001b[?25l\u001b[2K\u001b[1Gpulling manifest ⠇ \u001b[?25h\u001b[?25l\u001b[2K\u001b[1Gpulling manifest ⠏ \u001b[?25h\u001b[?25l\u001b[2K\u001b[1Gpulling manifest ⠋ \u001b[?25h\u001b[?25l\u001b[2K\u001b[1Gpulling manifest ⠙ \u001b[?25h\u001b[?25l\u001b[2K\u001b[1Gpulling manifest ⠹ \u001b[?25h\u001b[?25l\u001b[2K\u001b[1Gpulling manifest ⠸ \u001b[?25h\u001b[?25l\u001b[2K\u001b[1Gpulling manifest ⠼ \u001b[?25h\u001b[?25l\u001b[2K\u001b[1Gpulling manifest ⠴ \u001b[?25h\u001b[?25l\u001b[2K\u001b[1Gpulling manifest ⠦ \u001b[?25h\u001b[?25l\u001b[2K\u001b[1Gpulling manifest ⠧ \u001b[?25h\u001b[?25l\u001b[2K\u001b[1Gpulling manifest ⠇ \u001b[?25h\u001b[?25l\u001b[2K\u001b[1Gpulling manifest ⠏ \u001b[?25h\u001b[?25l\u001b[2K\u001b[1Gpulling manifest ⠋ \u001b[?25h\u001b[?25l\u001b[2K\u001b[1Gpulling manifest ⠙ \u001b[?25h\u001b[?25l\u001b[2K\u001b[1Gpulling manifest ⠹ \u001b[?25h\u001b[?25l\u001b[2K\u001b[1Gpulling manifest ⠸ \u001b[?25h\u001b[?25l\u001b[2K\u001b[1Gpulling manifest ⠼ \u001b[?25h\u001b[?25l\u001b[2K\u001b[1Gpulling manifest ⠴ \u001b[?25h\u001b[?25l\u001b[2K\u001b[1Gpulling manifest ⠦ \u001b[?25h\u001b[?25l\u001b[2K\u001b[1Gpulling manifest ⠧ \u001b[?25h\u001b[?25l\u001b[2K\u001b[1Gpulling manifest \n",
      "pulling aabd4debf0c8... 100% ▕████████████████▏ 1.1 GB                         \n",
      "pulling 369ca498f347... 100% ▕████████████████▏  387 B                         \n",
      "pulling 6e4c38e1172f... 100% ▕████████████████▏ 1.1 KB                         \n",
      "pulling f4d24e9138dd... 100% ▕████████████████▏  148 B                         \n",
      "pulling a85fe2a2e58e... 100% ▕████████████████▏  487 B                         \n",
      "verifying sha256 digest \n",
      "writing manifest \n",
      "success \u001b[?25h\n"
     ]
    }
   ],
   "source": [
    "!ollama pull deepseek-r1:1.5b"
   ]
  },
  {
   "cell_type": "code",
   "execution_count": 45,
   "id": "ae0ed8c0-3a88-41ee-9792-c7ad1185b01e",
   "metadata": {},
   "outputs": [],
   "source": [
    "model = \"deepseek-r1:1.5b\""
   ]
  },
  {
   "cell_type": "code",
   "execution_count": 46,
   "id": "f8097a08-8dad-43a9-95c5-229d56aac991",
   "metadata": {},
   "outputs": [
    {
     "data": {
      "text/markdown": [
       "<think>\n",
       "\n",
       "</think>\n",
       "\n",
       "A blog by ZinKo  \n",
       "Home  \n",
       "About  \n",
       "Sign in  \n",
       "Subscribe  \n",
       "Thoughts, stories and ideas.  \n",
       "\n",
       "Subscribe below to receive my latest posts directly in your inbox. Promise no spams!  \n",
       "\n",
       " jamie@example.com  \n",
       "Subscribe  \n",
       "\n",
       "Trip to New Zealand - Queenstown!  \n",
       "Jan 27, 2025  \n",
       "1 min read  \n",
       "\n",
       "Hello from my new blog!  \n",
       "Nov 8, 2024  \n",
       "1 min read  \n",
       "\n",
       "My Experience with Georgia Tech OMSA Program Part-4  \n",
       "May 1, 2024  \n",
       "6 min read  \n",
       "\n",
       "My Experience with Georgia Tech OMSA Program Part-3  \n",
       "Apr 30, 2024  \n",
       "3 min read  \n",
       "\n",
       "My Experience with Georgia Tech OMSA Program Part-2  \n",
       "Apr 29, 2024  \n",
       "4 min read  \n",
       "\n",
       "My Experience with Georgia Tech OMSA Program Part-1  \n",
       "Mar 25, 2024  \n",
       "3 min read  \n",
       "\n",
       "A blog by ZinKo © 2025. Powered by Ghost"
      ],
      "text/plain": [
       "<IPython.core.display.Markdown object>"
      ]
     },
     "metadata": {},
     "output_type": "display_data"
    }
   ],
   "source": [
    "# rewriting the function slightly to fit with deepseek model\n",
    "def summarize_local(url):\n",
    "    website = Website(url)\n",
    "    response = ollama.chat(\n",
    "        model = model,\n",
    "        messages = messages_for(website)\n",
    "    )\n",
    "    return response['message']['content']"
   ]
  },
  {
   "cell_type": "markdown",
   "id": "3aac7f5f-a3db-4bfe-9aee-a1d58ec4f6c6",
   "metadata": {},
   "source": [
    "**Observation**\n",
    "\n",
    "Again, as you can see it's not super great."
   ]
  },
  {
   "cell_type": "code",
   "execution_count": 47,
   "id": "9363bee2-be20-4586-a341-d4ee40c0edd8",
   "metadata": {},
   "outputs": [
    {
     "data": {
      "text/markdown": [
       "<think>\n",
       "Okay, so I'm trying to figure out how to approach this problem. The question is about the New York Times offering a free daily puzzle called Wordle in exchange for their ads. It says that the ad on the right side of the screen includes more than just the word, and it's not entirely clear whether the answer is included. They also mention that they're working with a brand studio to create this puzzle each day.\n",
       "\n",
       "Hmm, first I need to understand what exactly the user is asking. Are they looking for tips on how to solve Wordle puzzles, or are they confused about why this specific ad includes more than just the answer? Or maybe they're trying to decide whether to support this subscription model?\n",
       "\n",
       "I think I should break it down. The Times offers a free daily puzzle to replace their ads, which is interesting because it's a mix between the word game Wordle and the ad that's part of their daily news rotation.\n",
       "\n",
       "I remember that Wordle is a popular online game where players guess letters based on hints given after each guess. It has its own rules about when they win—like when you guess correctly or if you run out of attempts, but in this case, it seems like the puzzle itself isn't part of their ad; instead, they're offering a free puzzle.\n",
       "\n",
       "So why would the Times offer that? Maybe they think the puzzle is valuable on its own. They might be trying to create a recurring revenue stream without relying solely on ads. By providing the puzzle for free in exchange for the ad, they could reduce the dependency on their usual news ads and maybe attract more readers who want puzzles.\n",
       "\n",
       "But then again, the user didn't specify what exactly they're asking about. They just provided this context. I wonder if they're trying to discuss the strategy of solving Wordle puzzles, or if they're unsure how this specific puzzle works or why it's included in their ad.\n",
       "\n",
       "I should also consider whether there are any potential downsides. If the Times is offering a free puzzle, do they risk engaging with the readers and people who might not have time for word games? Or could that attract attention away from the main ads?\n",
       "\n",
       "Another angle is to think about audience preferences. The New York Times has a strong reputation for delivering quality news and their ad ecosystem. By offering a new service, they might be expanding into other revenue streams, which could enhance their brand presence and diversification.\n",
       "\n",
       "I should also check if there are any official statements or press releases from the New York Times regarding this subscription model. Maybe that will give me more insight into how it's perceived by readers or the media.\n",
       "\n",
       "In summary, I'm a bit confused about the specific interaction here, but I think the key points to consider are: the substitution of ads with free puzzles, potential benefits in terms of revenue streams and audience engagement, and possible concerns about losing touch with readers interested in word games.\n",
       "</think>\n",
       "\n",
       "The New York Times is offering a free daily Wordle puzzle as part of their ad rotation, aiming to diversify their revenue streams. While there are several considerations:\n",
       "\n",
       "1. **Revenue Streams**: The substitution replaces ads, which could reduce reliance on traditional news ads and attract readers interested in word games.\n",
       "\n",
       "2. **Audience Engagement**: Wordle puzzles might attract those not engaged with word games, potentially affecting the main ad ecosystem's attention to content.\n",
       "\n",
       "3. **Brand Diversification**: By introducing a new service, they expand their brand beyond news, enhancing exposure and differentiation.\n",
       "\n",
       "4. **Potential Concerns**: Readers interested in word games may lose touch, though this could be mitigated by promoting Wordle alongside other puzzles or articles.\n",
       "\n",
       "In conclusion, the interaction highlights a strategy for diversifying revenue and engaging with different audiences through substitution of ads with word-based challenges."
      ],
      "text/plain": [
       "<IPython.core.display.Markdown object>"
      ]
     },
     "metadata": {},
     "output_type": "display_data"
    }
   ],
   "source": [
    "display_summary_local(\"https://nytimes.com\")"
   ]
  },
  {
   "cell_type": "markdown",
   "id": "5685096e-a806-415f-be35-386588e6f15e",
   "metadata": {},
   "source": [
    "**Conclusion**"
   ]
  },
  {
   "cell_type": "markdown",
   "id": "2461cf26-dfc8-47d5-b133-278c56ffaaf0",
   "metadata": {},
   "source": [
    "In summary, OpenAI model performs well in this task compared to locally run models. I guess this is the trade-off you have to consider given that it is kind of amazing you are able to get this level of output from locally run LLM (with my not so powerful machine)."
   ]
  },
  {
   "cell_type": "code",
   "execution_count": null,
   "id": "0a220d95-2dad-4e39-a0ce-1669a0f37cf6",
   "metadata": {},
   "outputs": [],
   "source": []
  }
 ],
 "metadata": {
  "kernelspec": {
   "display_name": "Python 3 (ipykernel)",
   "language": "python",
   "name": "python3"
  },
  "language_info": {
   "codemirror_mode": {
    "name": "ipython",
    "version": 3
   },
   "file_extension": ".py",
   "mimetype": "text/x-python",
   "name": "python",
   "nbconvert_exporter": "python",
   "pygments_lexer": "ipython3",
   "version": "3.11.11"
  }
 },
 "nbformat": 4,
 "nbformat_minor": 5
}
