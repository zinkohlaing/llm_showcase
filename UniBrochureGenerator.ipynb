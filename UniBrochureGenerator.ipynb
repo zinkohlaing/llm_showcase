{
 "cells": [
  {
   "cell_type": "markdown",
   "id": "b01747fe-b4bd-400c-8a6e-897e6ab696bf",
   "metadata": {},
   "source": [
    "# University Course Brochure Generator"
   ]
  },
  {
   "cell_type": "markdown",
   "id": "dbd37dc8-2cb4-412c-a894-5635638768eb",
   "metadata": {},
   "source": [
    "**Business Case**\n",
    "\n",
    "Build an AI chatbot that builds a Brochure for a university and the programs it offer to prospective students, just by providing the name of the university and its primary website."
   ]
  },
  {
   "cell_type": "markdown",
   "id": "a4e88cf6-2883-4158-8048-2ef7c6fae25d",
   "metadata": {},
   "source": [
    "This is based on the materials in LLM Engineering course (https://www.udemy.com/course/llm-engineering-master-ai-and-large-language-models/)"
   ]
  },
  {
   "cell_type": "markdown",
   "id": "71660448-d43a-427c-a857-53a2d8c7bd04",
   "metadata": {},
   "source": [
    "**Technical Challenges**\n",
    "\n",
    "- To use multi-shot prompting in making links to provide examples of what a program should look like (e.g. undergrad, postgrad)\n",
    "- Add more instructions to provide the brochure in a particular format (for example, targeted to undergraduates versus experienced professionals looking for a career change versus academics who want to get PHDs)\n",
    "- Add additional language capabilities (e.g. translate the entire brochure in different language than English)"
   ]
  },
  {
   "cell_type": "markdown",
   "id": "81dbb288-f53a-4e4e-b9bc-6dad43834d5a",
   "metadata": {},
   "source": [
    "This will be generated using OpenAI GPT 4-o mini model."
   ]
  },
  {
   "cell_type": "code",
   "execution_count": 1,
   "id": "c80c7868-224b-4ee4-b9b2-90a39d58a2aa",
   "metadata": {},
   "outputs": [],
   "source": [
    "# imports\n",
    "\n",
    "import os\n",
    "import requests\n",
    "import json\n",
    "from typing import List\n",
    "from dotenv import load_dotenv\n",
    "from bs4 import BeautifulSoup\n",
    "from IPython.display import Markdown, display, update_display\n",
    "from openai import OpenAI"
   ]
  },
  {
   "cell_type": "code",
   "execution_count": 2,
   "id": "3f1d6731-0fc4-4276-87cd-4e92a20b6193",
   "metadata": {},
   "outputs": [
    {
     "name": "stdout",
     "output_type": "stream",
     "text": [
      "API key looks good so far\n"
     ]
    }
   ],
   "source": [
    "# Initialize and constants\n",
    "\n",
    "load_dotenv(override=True)\n",
    "api_key = os.getenv('OPENAI_API_KEY')\n",
    "\n",
    "if api_key and api_key.startswith('sk-proj-') and len(api_key)>10:\n",
    "    print(\"API key looks good so far\")\n",
    "else:\n",
    "    print(\"There might be a problem with your API key? Please visit the troubleshooting notebook!\")\n",
    "    \n",
    "MODEL = 'gpt-4o-mini'\n",
    "openai = OpenAI()"
   ]
  },
  {
   "cell_type": "markdown",
   "id": "11c88da1-303d-40f9-b635-ff072502df5a",
   "metadata": {},
   "source": [
    "Below is a class to represent a website that is to be scraped. In addition to scraping the website, the class will also get the links and store the links inside links object."
   ]
  },
  {
   "cell_type": "code",
   "execution_count": 3,
   "id": "190120b2-523a-4783-9f60-8c7cd925bc96",
   "metadata": {},
   "outputs": [],
   "source": [
    "# A class to represent a Webpage\n",
    "\n",
    "# Some websites need you to use proper headers when fetching them:\n",
    "headers = {\n",
    " \"User-Agent\": \"Mozilla/5.0 (Windows NT 10.0; Win64; x64) AppleWebKit/537.36 (KHTML, like Gecko) Chrome/117.0.0.0 Safari/537.36\"\n",
    "}\n",
    "\n",
    "class Website:\n",
    "    \"\"\"\n",
    "    A utility class to represent a Website that we have scraped, now with links\n",
    "    \"\"\"\n",
    "\n",
    "    def __init__(self, url):\n",
    "        self.url = url\n",
    "        response = requests.get(url, headers=headers)\n",
    "        self.body = response.content\n",
    "        soup = BeautifulSoup(self.body, 'html.parser')\n",
    "        self.title = soup.title.string if soup.title else \"No title found\"\n",
    "        if soup.body:\n",
    "            for irrelevant in soup.body([\"script\", \"style\", \"img\", \"input\"]):\n",
    "                irrelevant.decompose()\n",
    "            self.text = soup.body.get_text(separator=\"\\n\", strip=True)\n",
    "        else:\n",
    "            self.text = \"\"\n",
    "        links = [link.get('href') for link in soup.find_all('a')]\n",
    "        self.links = [link for link in links if link]\n",
    "\n",
    "    def get_contents(self):\n",
    "        return f\"Webpage Title:\\n{self.title}\\nWebpage Contents:\\n{self.text}\\n\\n\""
   ]
  },
  {
   "cell_type": "code",
   "execution_count": 4,
   "id": "503385db-9055-4b4a-97b9-101c08366983",
   "metadata": {},
   "outputs": [
    {
     "data": {
      "text/plain": [
       "['https://www.zinkohlaing.com',\n",
       " 'https://www.zinkohlaing.com/',\n",
       " 'https://www.zinkohlaing.com/about/',\n",
       " 'https://www.zinkohlaing.com/tag/data-science/',\n",
       " '#/portal/signin',\n",
       " '#/portal/signup',\n",
       " '/comparing-local-and-openai-models-for-website-summarization/',\n",
       " '/hello-from-my-new-blog/',\n",
       " '/my-experience-with-georgia-tech-omsa-program-part-4/',\n",
       " '/my-experience-with-georgia-tech-omsa-program-part-3/',\n",
       " '/my-experience-with-georgia-tech-omsa-program-part-2/',\n",
       " '/my-experience-with-georgia-tech-omsa-program-part-1/',\n",
       " 'https://ghost.org/']"
      ]
     },
     "execution_count": 4,
     "metadata": {},
     "output_type": "execute_result"
    }
   ],
   "source": [
    "# example using my own website\n",
    "zkh = Website(\"https://zinkohlaing.com\")\n",
    "zkh.links"
   ]
  },
  {
   "cell_type": "code",
   "execution_count": 5,
   "id": "fd43dc98-ab74-46c4-9b84-9737a17fcd52",
   "metadata": {},
   "outputs": [
    {
     "name": "stdout",
     "output_type": "stream",
     "text": [
      "Webpage Title:\n",
      "A blog by ZinKo\n",
      "Webpage Contents:\n",
      "A blog by ZinKo\n",
      "Home\n",
      "About\n",
      "Data Science Portfolio\n",
      "Sign in\n",
      "Subscribe\n",
      "Thoughts, stories and ideas.\n",
      "Subscribe below to receive my latest posts directly in your inbox. Promise no spams!\n",
      "jamie@example.com\n",
      "Subscribe\n",
      "Comparing Local and OpenAI Models for Website Summarization\n",
      "Feb 27, 2025\n",
      "4 min read\n",
      "Hello from my new blog!\n",
      "Nov 8, 2024\n",
      "1 min read\n",
      "My Experience with Georgia Tech OMSA Program Part-4\n",
      "May 1, 2024\n",
      "6 min read\n",
      "My Experience with Georgia Tech OMSA Program Part-3\n",
      "Apr 30, 2024\n",
      "3 min read\n",
      "My Experience with Georgia Tech OMSA Program Part-2\n",
      "Apr 29, 2024\n",
      "4 min read\n",
      "My Experience with Georgia Tech OMSA Program Part-1\n",
      "Mar 25, 2024\n",
      "3 min read\n",
      "A blog by ZinKo © 2025. Powered by\n",
      "Ghost\n",
      "\n",
      "\n"
     ]
    }
   ],
   "source": [
    "# example of how the object contents look like\n",
    "print(zkh.get_contents())"
   ]
  },
  {
   "cell_type": "markdown",
   "id": "4eddd3d7-2f50-4d7d-829f-4f345a920cdd",
   "metadata": {},
   "source": [
    "**First step: Have GPT-4o-mini figure out which links are relevant**"
   ]
  },
  {
   "cell_type": "markdown",
   "id": "ef65ff07-8075-407a-9519-cd2924859b7f",
   "metadata": {},
   "source": [
    "It's good to scrape the website and get the links, but not all links are relevant. \n",
    "For this use case, the GPT-4o-mini should be able to decide which links are relevant for a university, and replace relative links such as \"/programmes\" with \"https://exampleuni.com/programmes\".\n",
    "\n",
    "I will use \"multi-shot prompting\" in which I will provide an example of how it should responsd in the prompt. "
   ]
  },
  {
   "cell_type": "code",
   "execution_count": 14,
   "id": "2ae4e9ed-290d-4cb4-b4f3-bee8767ba9cf",
   "metadata": {},
   "outputs": [],
   "source": [
    "link_system_prompt = \"You are an AI assistant specialized in analyzing webpage links for university brochures. \\\n",
    "Your task is to identify and categorize the most relevant links that should be included in a university brochure. \\\n",
    "Consider the following link types as highly relevant: \\\n",
    "1. Program pages (e.g., undergraduate, graduate, post-graduate, diplomas, specific majors) \\\n",
    "2. Admissions pages (e.g., application process, requirements, deadlines) \\\n",
    "3. Campus life pages (e.g., housing, student organizations, events) \\\n",
    "4. Financial aid and scholarship information \\\n",
    "5. Research opportunities and facilities \\\n",
    "6. Career services and alumni success stories \\\n",
    "7. International student resources \\\n",
    "8. Virtual tours or campus maps \\\n",
    "\\\n",
    "Exclude links that are not directly relevant to prospective students, such as: \\\n",
    "- Staff-only pages \\\n",
    "- Technical support or IT services \\\n",
    "- Alumni pages \\\n",
    "- Detailed policy pages, Terms of Services or Privacy Policy pages \\\n",
    "- News articles \\\n",
    "- Library links \\\n",
    "- Career pages (for staff hires) \\\n",
    "n\"\n",
    "link_system_prompt += \"Analyze the provided links and you should respond in JSON as in this example:\"\n",
    "link_system_prompt += \"\"\"\n",
    "{\n",
    "    \"links\": [\n",
    "        {\"type\": \"program page\", \"url\": \"https://university.url/programs/computer-science\"},\n",
    "        {\"type\": \"admissions page\", \"url\": \"https://another.university.url/admissions/apply\"},\n",
    "        {\"type\": \"campus life\", \"url\": \"https://another.university.url/campus-life/housing\"},\n",
    "        {\"type\": \"program page\", \"url\": \"https://another.university.url/programs/computer-science\"}\n",
    "    ]\n",
    "}\n",
    "\"\"\""
   ]
  },
  {
   "cell_type": "code",
   "execution_count": 15,
   "id": "e01c72de-70b2-4efa-b6b9-e55cc95fcdb8",
   "metadata": {},
   "outputs": [
    {
     "name": "stdout",
     "output_type": "stream",
     "text": [
      "You are an AI assistant specialized in analyzing webpage links for university brochures. Your task is to identify and categorize the most relevant links that should be included in a university brochure. Consider the following link types as highly relevant: 1. Program pages (e.g., undergraduate, graduate, post-graduate, diplomas, specific majors) 2. Admissions pages (e.g., application process, requirements, deadlines) 3. Campus life pages (e.g., housing, student organizations, events) 4. Financial aid and scholarship information 5. Research opportunities and facilities 6. Career services and alumni success stories 7. International student resources 8. Virtual tours or campus maps Exclude links that are not directly relevant to prospective students, such as: - Staff-only pages - Technical support or IT services - Alumni pages - Detailed policy pages, Terms of Services or Privacy Policy pages - News articles - Library links - Career pages (for staff hires) nAnalyze the provided links and you should respond in JSON as in this example:\n",
      "{\n",
      "    \"links\": [\n",
      "        {\"type\": \"program page\", \"url\": \"https://university.url/programs/computer-science\"},\n",
      "        {\"type\": \"admissions page\", \"url\": \"https://another.university.url/admissions/apply\"},\n",
      "        {\"type\": \"campus life\", \"url\": \"https://another.university.url/campus-life/housing\"},\n",
      "        {\"type\": \"program page\", \"url\": \"https://another.university.url/programs/computer-science\"}\n",
      "    ]\n",
      "}\n",
      "\n"
     ]
    }
   ],
   "source": [
    "print(link_system_prompt)"
   ]
  },
  {
   "cell_type": "code",
   "execution_count": 16,
   "id": "89a3a0f6-08d2-4ea2-ada5-cd86eef4ee42",
   "metadata": {},
   "outputs": [],
   "source": [
    "def get_links_user_prompt(website):\n",
    "    user_prompt = f\"Here is the list of links on the website of {website.url} - \"\n",
    "    user_prompt += \"please decide which of these are relevant web links for a brochure about the university, respond with the full https URL in JSON format. \\\n",
    "Do not include Terms of Service, Privacy, email links.\\n\"\n",
    "    user_prompt += \"Links (some might be relative links):\\n\"\n",
    "    user_prompt += \"\\n\".join(website.links)\n",
    "    return user_prompt"
   ]
  },
  {
   "cell_type": "code",
   "execution_count": 17,
   "id": "1c74da3f-4098-465d-b185-db79a108877f",
   "metadata": {},
   "outputs": [],
   "source": [
    "# let's try with my school Gtech site\n",
    "gtech = Website(\"https://www.gatech.edu/\")"
   ]
  },
  {
   "cell_type": "code",
   "execution_count": 18,
   "id": "0cf6e633-c510-42a2-91e0-d95e8d087c38",
   "metadata": {},
   "outputs": [
    {
     "name": "stdout",
     "output_type": "stream",
     "text": [
      "Here is the list of links on the website of https://www.gatech.edu/ - please decide which of these are relevant web links for a brochure about the university, respond with the full https URL in JSON format. Do not include Terms of Service, Privacy, email links.\n",
      "Links (some might be relative links):\n",
      "#main-navigation\n",
      "#main-content\n",
      "/about\n",
      "/about/history-traditions\n",
      "/about/campus-location\n",
      "/about/rankings\n",
      "https://www.gatech.edu/about/vision\n",
      "https://www.gatech.edu/about/values\n",
      "https://generalcounsel.gatech.edu/ethics-and-compliance\n",
      "/about/military-resources\n",
      "/about/visit\n",
      "/about/leadership\n",
      "https://directory.gatech.edu/\n",
      "https://hr.gatech.edu/employment/careers\n",
      "/offices-and-departments\n",
      "/academics-education\n",
      "/academics/all-degree-programs\n",
      "/academics/colleges-and-schools\n",
      "https://pe.gatech.edu/\n",
      "https://pe.gatech.edu/georgia-tech-online\n",
      "https://registrar.gatech.edu/calendar\n",
      "/prospective-students\n",
      "/admission\n",
      "https://admission.gatech.edu/visit/\n",
      "https://finaid.gatech.edu/current-cost-overview\n",
      "https://finaid.gatech.edu/\n",
      "https://swag.gatech.edu/\n",
      "/life\n",
      "/life/campus-life\n",
      "/life/student-activities\n",
      "/life/student-activities#sports\n",
      "https://ramblinwreck.com/tickets/\n",
      "https://ramblinwreckstore.com/\n",
      "https://research.gatech.edu/\n",
      "https://research.gatech.edu/strategic-initiatives\n",
      "https://research.gatech.edu/news\n",
      "https://commercialization.gatech.edu\n",
      "https://corporate.gatech.edu\n",
      "https://innovate.gatech.edu/\n",
      "https://news.gatech.edu/\n",
      "/about/experts\n",
      "https://news.gatech.edu/features\n",
      "https://calendar.gatech.edu/\n",
      "https://news.gatech.edu/media-contacts\n",
      "https://gatech.edu\n",
      "/about\n",
      "/about/history-traditions\n",
      "/about/campus-location\n",
      "/about/rankings\n",
      "https://www.gatech.edu/about/vision\n",
      "https://www.gatech.edu/about/values\n",
      "https://generalcounsel.gatech.edu/ethics-and-compliance\n",
      "/about/military-resources\n",
      "/about/visit\n",
      "/about/leadership\n",
      "https://directory.gatech.edu/\n",
      "https://hr.gatech.edu/employment/careers\n",
      "/offices-and-departments\n",
      "/academics-education\n",
      "/academics/all-degree-programs\n",
      "/academics/colleges-and-schools\n",
      "https://pe.gatech.edu/\n",
      "https://pe.gatech.edu/georgia-tech-online\n",
      "https://registrar.gatech.edu/calendar\n",
      "/prospective-students\n",
      "/admission\n",
      "https://admission.gatech.edu/visit/\n",
      "https://finaid.gatech.edu/current-cost-overview\n",
      "https://finaid.gatech.edu/\n",
      "https://swag.gatech.edu/\n",
      "/life\n",
      "/life/campus-life\n",
      "/life/student-activities\n",
      "/life/student-activities#sports\n",
      "https://ramblinwreck.com/tickets/\n",
      "https://ramblinwreckstore.com/\n",
      "https://research.gatech.edu/\n",
      "https://research.gatech.edu/strategic-initiatives\n",
      "https://research.gatech.edu/news\n",
      "https://commercialization.gatech.edu\n",
      "https://corporate.gatech.edu\n",
      "https://innovate.gatech.edu/\n",
      "https://news.gatech.edu/\n",
      "/about/experts\n",
      "https://news.gatech.edu/features\n",
      "https://calendar.gatech.edu/\n",
      "https://news.gatech.edu/media-contacts\n",
      "https://www.gatech.edu/admission\n",
      "https://www.givecampus.com/campaigns/46972/donations/new\n",
      "https://www.givecampus.com/campaigns/46972/donations/new\n",
      "/academics/all-degree-programs\n",
      "/admission\n",
      "#jumpto\n",
      "https://transformingtomorrow.gatech.edu/investinthebest\n",
      "/academics/all-degree-programs\n",
      "/academics/all-degree-programs\n",
      "/academics/all-degree-programs\n",
      "/life\n",
      "/life\n",
      "/life\n",
      "/admission\n",
      "/admission\n",
      "/admission\n",
      "/news/topic/campus-and-community\n",
      "/news/topic/campus-and-community\n",
      "/news/2025/02/18/atlanta-uniteds-efrain-morales-balances-soccer-and-studies-georgia-tech\n",
      "/news/topic/earth-and-environment\n",
      "/news/2025/02/16/georgia-tech-research-targets-forever-chemicals-drinking-water\n",
      "/news/topic/campus-and-community\n",
      "/news/2025/02/16/maria-corina-machado-receives-ivan-allen-jr-prize-social-courage\n",
      "https://news.gatech.edu/\n",
      "https://www.gatech.edu/offices-and-departments\n",
      "https://news.gatech.edu/\n",
      "https://calendar.gatech.edu/\n",
      "https://specialevents.gatech.edu/\n",
      "https://greenbuzz.gatech.edu/\n",
      "https://comm.gatech.edu/\n",
      "https://admission.gatech.edu/visit\n",
      "https://www.gatech.edu/about/visit\n",
      "https://pts.gatech.edu/visitors\n",
      "https://lawn.gatech.edu/gtvisitor\n",
      "https://pe.gatech.edu/global-learning-center\n",
      "https://gatechhotel.com/\n",
      "https://gatech.bncollege.com/shop/gatech/home\n",
      "https://arts.gatech.edu/\n",
      "https://paper.gatech.edu/\n",
      "https://cc.gatech.edu/\n",
      "https://design.gatech.edu/\n",
      "https://coe.gatech.edu/\n",
      "https://lifetimelearning.gatech.edu/\n",
      "https://cos.gatech.edu/\n",
      "https://iac.gatech.edu/\n",
      "https://scheller.gatech.edu/\n",
      "https://lorraine.gatech.edu/\n",
      "https://shenzhen.gatech.edu/\n",
      "https://pe.gatech.edu/georgia-tech-online\n",
      "https://pe.gatech.edu/\n",
      "https://esl.gatech.edu/\n",
      "https://global.gatech.edu/\n",
      "https://research.gatech.edu/\n",
      "https://www.gtri.gatech.edu/\n",
      "https://commercialization.gatech.edu/\n",
      "https://innovate.gatech.edu/\n",
      "https://corporate.gatech.edu/\n",
      "https://www.gatech.edu/admissions\n",
      "https://buzzport.gatech.edu/\n",
      "https://buzzcard.gatech.edu/\n",
      "https://career.gatech.edu/\n",
      "https://commencement.gatech.edu/\n",
      "https://gradpostdoc.gatech.edu/\n",
      "https://oue.gatech.edu/\n",
      "https://library.gatech.edu/\n",
      "https://studentlife.gatech.edu\n",
      "https://create-x.gatech.edu/\n",
      "https://ea.oie.gatech.edu/\n",
      "https://canvas.gatech.edu/\n",
      "https://parents.gatech.edu/\n",
      "https://studentlife.gatech.edu\n",
      "https://finaid.gatech.edu/\n",
      "https://af.gatech.edu/\n",
      "https://advising.gatech.edu/\n",
      "https://faculty.gatech.edu/\n",
      "https://careers.gatech.edu/\n",
      "https://postdocs.gatech.edu/\n",
      "https://ohr.gatech.edu/\n",
      "https://staffcouncil.gatech.edu/\n",
      "https://techworks.gatech.edu/\n",
      "https://www.gtalumni.org/\n",
      "https://www.gtalumni.org/career\n",
      "https://www.gtf.gatech.edu/\n",
      "https://securelb.imodules.com/s/1481/alumni/19/interior.aspx?sid=1481&gid=21&pgid=787&cid=1639&appealcode=ALMW21Q105305S017UD\n",
      "https://atdc.org/\n",
      "https://innovate.gatech.edu/\n",
      "https://industry.gatech.edu/\n",
      "https://gov.gatech.edu/\n",
      "https://pe.gatech.edu/\n",
      "https://www.facebook.com/georgiatech\n",
      "https://www.instagram.com/georgiatech\n",
      "https://www.linkedin.com/edu/school?id=18158&trk=tyah\n",
      "https://x.com/georgiatech\n",
      "https://www.youtube.com/channel/UCFkaWOGpyFBVRf5jEeD_wrA\n",
      "tel: +14048942000\n",
      "https://map.gatech.edu/\n",
      "https://directory.gatech.edu/\n",
      "https://careers.gatech.edu/\n",
      "https://www.gatech.edu/emergency/\n",
      "https://www.policylibrary.gatech.edu/employment/equal-opportunity-nondiscrimination-and-anti-harassment-policy\n",
      "https://www.gatech.edu/legal/\n",
      "https://gbi.georgia.gov/human-trafficking-notice\n",
      "https://titleix.gatech.edu/\n",
      "https://osi.gatech.edu/hazing-conduct-history\n",
      "https://www.gatech.edu/accessibility/\n",
      "https://www.gatech.edu/accountability/\n",
      "https://www.gatech.edu/accreditation/\n",
      "https://secure.ethicspoint.com/domain/media/en/gui/76612/index.html\n",
      "https://www.gatech.edu/\n",
      "http://www.gatech.edu/cas\n"
     ]
    }
   ],
   "source": [
    "print(get_links_user_prompt(gtech))"
   ]
  },
  {
   "cell_type": "code",
   "execution_count": 19,
   "id": "ff613d44-e5cf-4c8a-b752-97431446da81",
   "metadata": {},
   "outputs": [],
   "source": [
    "# calling openAI model\n",
    "def get_links(url):\n",
    "    website = Website(url)\n",
    "    response = openai.chat.completions.create(\n",
    "        model=MODEL,\n",
    "        messages=[\n",
    "            {\"role\": \"system\", \"content\": link_system_prompt},\n",
    "            {\"role\": \"user\", \"content\": get_links_user_prompt(website)}\n",
    "      ],\n",
    "        response_format={\"type\": \"json_object\"} #this will only work if you mention in the prompt explicitly that you need the model to return JSON object\n",
    "    )\n",
    "    result = response.choices[0].message.content\n",
    "    return json.loads(result)"
   ]
  },
  {
   "cell_type": "code",
   "execution_count": 20,
   "id": "07020d28-e9fa-4935-b7f0-0238c210bd7a",
   "metadata": {},
   "outputs": [
    {
     "data": {
      "text/plain": [
       "{'links': [{'type': 'about page',\n",
       "   'url': 'https://www.gatech.edu/about/vision'},\n",
       "  {'type': 'about page', 'url': 'https://www.gatech.edu/about/values'},\n",
       "  {'type': 'campus life', 'url': 'https://www.gatech.edu/life/campus-life'},\n",
       "  {'type': 'student activities',\n",
       "   'url': 'https://www.gatech.edu/life/student-activities'},\n",
       "  {'type': 'program page',\n",
       "   'url': 'https://www.gatech.edu/academics/all-degree-programs'},\n",
       "  {'type': 'admissions page', 'url': 'https://www.gatech.edu/admissions'},\n",
       "  {'type': 'admissions page', 'url': 'https://www.gatech.edu/admission'},\n",
       "  {'type': 'financial aid', 'url': 'https://finaid.gatech.edu/'},\n",
       "  {'type': 'financial aid',\n",
       "   'url': 'https://finaid.gatech.edu/current-cost-overview'},\n",
       "  {'type': 'research opportunities', 'url': 'https://research.gatech.edu/'},\n",
       "  {'type': 'research initiatives',\n",
       "   'url': 'https://research.gatech.edu/strategic-initiatives'},\n",
       "  {'type': 'career services', 'url': 'https://career.gatech.edu/'},\n",
       "  {'type': 'virtual tours', 'url': 'https://admission.gatech.edu/visit'},\n",
       "  {'type': 'prospective students',\n",
       "   'url': 'https://www.gatech.edu/prospective-students'}]}"
      ]
     },
     "execution_count": 20,
     "metadata": {},
     "output_type": "execute_result"
    }
   ],
   "source": [
    "# scrape Gtech site\n",
    "get_links(\"https://www.gatech.edu/\")"
   ]
  },
  {
   "cell_type": "code",
   "execution_count": 22,
   "id": "eaffed28-13c7-47ea-8eb1-4060f229729e",
   "metadata": {},
   "outputs": [
    {
     "data": {
      "text/plain": [
       "{'links': [{'type': 'program page',\n",
       "   'url': 'https://www.smu.edu/cox/business-degrees/undergraduate/bachelor-business-administration/curriculum/accounting'},\n",
       "  {'type': 'program page', 'url': 'https://www.smu.edu/meadows/areasofstudy'},\n",
       "  {'type': 'program page',\n",
       "   'url': 'https://www.smu.edu/dedman/academics/undergraduate-minors-and-programs/interdisciplinary-studies/biochemistry'},\n",
       "  {'type': 'program page',\n",
       "   'url': 'https://www.smu.edu/dedman/academics/departments/chemistry/'},\n",
       "  {'type': 'program page',\n",
       "   'url': 'https://www.smu.edu/meadows/areasofstudy/dance/undergraduatestudies/danceperformancebfa'},\n",
       "  {'type': 'program page', 'url': 'https://www.smu.edu/lyle/undergraduate'},\n",
       "  {'type': 'program page',\n",
       "   'url': 'https://www.smu.edu/dedman/academics/departments/history'},\n",
       "  {'type': 'program page',\n",
       "   'url': 'https://www.smu.edu/dedman/academics/undergraduate-minors-and-programs/interdisciplinary-studies/ehrp/'},\n",
       "  {'type': 'program page',\n",
       "   'url': 'https://www.smu.edu/dedman/academics/undergraduate-minors-and-programs/interdisciplinary-studies/international-area-studies'},\n",
       "  {'type': 'program page',\n",
       "   'url': 'https://www.smu.edu/meadows/areasofstudy/journalism'},\n",
       "  {'type': 'program page',\n",
       "   'url': 'https://www.smu.edu/dedman/academics/departments/math'},\n",
       "  {'type': 'program page',\n",
       "   'url': 'https://www.smu.edu/meadows/areasofstudy/music'},\n",
       "  {'type': 'program page',\n",
       "   'url': 'https://www.smu.edu/dedman/academics/departments/physics/undergraduate'},\n",
       "  {'type': 'program page',\n",
       "   'url': 'https://www.smu.edu/dedman/academics/departments/political-science'},\n",
       "  {'type': 'program page',\n",
       "   'url': 'https://www.smu.edu/dedman/academics/departments/psychology'},\n",
       "  {'type': 'program page',\n",
       "   'url': 'https://www.smu.edu/academics/degrees-and-programs'},\n",
       "  {'type': 'admissions page', 'url': 'https://www.smu.edu/admission/apply'},\n",
       "  {'type': 'admissions page', 'url': 'https://www.smu.edu/admission/visit'},\n",
       "  {'type': 'admissions page',\n",
       "   'url': 'https://www.smu.edu/admission/financialaid'},\n",
       "  {'type': 'admissions page',\n",
       "   'url': 'https://www.smu.edu/admission/apply/firstyear/datesanddeadlines'},\n",
       "  {'type': 'admissions page',\n",
       "   'url': 'https://www.smu.edu/admission/academics/faqsacademics'},\n",
       "  {'type': 'research opportunities', 'url': 'https://www.smu.edu/research'},\n",
       "  {'type': 'campus life',\n",
       "   'url': 'https://www.smu.edu/admission/campuslife/dallas'},\n",
       "  {'type': 'international student resources',\n",
       "   'url': 'https://www.smu.edu/infofor/students'},\n",
       "  {'type': 'virtual tour',\n",
       "   'url': 'https://www.smu.edu/admission/visit/virtualtour'}]}"
      ]
     },
     "execution_count": 22,
     "metadata": {},
     "output_type": "execute_result"
    }
   ],
   "source": [
    "#try another one \n",
    "get_links(\"https://www.smu.edu/\")"
   ]
  },
  {
   "cell_type": "code",
   "execution_count": 23,
   "id": "04178d1a-6bef-4723-a15b-c8456176e3d1",
   "metadata": {},
   "outputs": [
    {
     "data": {
      "text/plain": [
       "{'links': [{'type': 'admissions page',\n",
       "   'url': 'https://www.ntu.edu.sg/admissions'},\n",
       "  {'type': 'admissions page',\n",
       "   'url': 'https://www.ntu.edu.sg/admissions/undergraduate'},\n",
       "  {'type': 'admissions page',\n",
       "   'url': 'https://www.ntu.edu.sg/admissions/undergraduate/admission-guide'},\n",
       "  {'type': 'admissions page',\n",
       "   'url': 'https://www.ntu.edu.sg/admissions/undergraduate/scholarships'},\n",
       "  {'type': 'admissions page',\n",
       "   'url': 'https://www.ntu.edu.sg/admissions/undergraduate/financial-matters'},\n",
       "  {'type': 'admissions page',\n",
       "   'url': 'https://www.ntu.edu.sg/admissions/graduate'},\n",
       "  {'type': 'admissions page',\n",
       "   'url': 'https://www.ntu.edu.sg/admissions/graduate/financialmatters'},\n",
       "  {'type': 'program page',\n",
       "   'url': 'https://www.ntu.edu.sg/education/colleges-schools'},\n",
       "  {'type': 'research opportunities', 'url': 'https://www.ntu.edu.sg/research'},\n",
       "  {'type': 'campus life', 'url': 'https://www.ntu.edu.sg/life-at-ntu'},\n",
       "  {'type': 'campus life',\n",
       "   'url': 'https://www.ntu.edu.sg/life-at-ntu/accommodation'},\n",
       "  {'type': 'financial aid and scholarship information',\n",
       "   'url': 'https://www.ntu.edu.sg/life-at-ntu/student-life/academic-and-career-development/student-awards'},\n",
       "  {'type': 'career services',\n",
       "   'url': 'https://www.ntu.edu.sg/education/career-guidance-industry-collaborations/for-students'},\n",
       "  {'type': 'international student resources',\n",
       "   'url': 'https://www.ntu.edu.sg/about-us/global/students'},\n",
       "  {'type': 'virtual tours or campus maps',\n",
       "   'url': 'https://www.ntu.edu.sg/about-us/visiting-ntu'}]}"
      ]
     },
     "execution_count": 23,
     "metadata": {},
     "output_type": "execute_result"
    }
   ],
   "source": [
    "get_links(\"https://www.ntu.edu.sg/\")"
   ]
  },
  {
   "cell_type": "markdown",
   "id": "5eb537e6-5b68-4c00-a073-e635f6f74d86",
   "metadata": {},
   "source": [
    "**Observations:**\n",
    "\n",
    "The agent can't seem to scrape some of the universities websites (such as https://www.ntu.edu.sg/ or https://www.smu.edu.sg/). I suspect this is due to how the site is structured.\n",
    "\n"
   ]
  },
  {
   "cell_type": "markdown",
   "id": "61238e41-6db6-4bd4-8cde-39b56503a498",
   "metadata": {},
   "source": [
    "# Make the university brochure!"
   ]
  },
  {
   "cell_type": "markdown",
   "id": "d3c1661d-68ff-4e6e-8624-72eeb74b8b6c",
   "metadata": {},
   "source": [
    "Here's what is happening now.\n",
    "\n",
    "First I will use the function built above to generate the website and relevant links. \n",
    "And then I will iterate each link inside the links to get the content of the link and append them into an object named result.\n",
    "Finally, the result will be returned."
   ]
  },
  {
   "cell_type": "code",
   "execution_count": 26,
   "id": "fedc31c3-3d0a-46a2-9ed2-1385490e7994",
   "metadata": {},
   "outputs": [],
   "source": [
    "def get_all_details(url):\n",
    "    result = \"Landing page:\\n\"\n",
    "    result += Website(url).get_contents()\n",
    "    links = get_links(url)\n",
    "    print(\"Found links:\", links)\n",
    "    for link in links[\"links\"]:\n",
    "        result += f\"\\n\\n{link['type']}\\n\"\n",
    "        result += Website(link[\"url\"]).get_contents()\n",
    "    return result"
   ]
  },
  {
   "cell_type": "code",
   "execution_count": 30,
   "id": "30781d0f-c58d-4721-bed7-7e1edfef2080",
   "metadata": {},
   "outputs": [],
   "source": [
    "#print(get_all_details(\"https://www.gatech.edu/\"))"
   ]
  },
  {
   "cell_type": "markdown",
   "id": "39e1d5f6-b466-4d68-996a-99890071ed7c",
   "metadata": {},
   "source": [
    "That returned a rather large object which I will comment out later to save you from having to read through the entire thing!"
   ]
  },
  {
   "cell_type": "code",
   "execution_count": 31,
   "id": "d95f930a-4176-4873-9f52-acb3f0265d31",
   "metadata": {},
   "outputs": [],
   "source": [
    "# writing the system prompt to generate the university brochure\n",
    "# here, I will write the prompt in a way that it will generate the brochure in a style that I wanted.\n",
    "\n",
    "system_prompt = \"You are an AI assistant that analyzes the contents of several relevant pages from a university website. \\\n",
    "and creates a short brochure about the university for prospective students. Respond in markdown.\\\n",
    "Write the brochure by starting with the introduction to the university, Campus Life. \\\n",
    "And then follow up with information for prospective students for undergraduate programs, admission requirements, financial aids. \\\n",
    "Then follow up with postgrad and other programs for experienced professionals. \\\n",
    "Conclude with student resources such as virtual tours and highlight why this is the best choice students can make.\""
   ]
  },
  {
   "cell_type": "code",
   "execution_count": 32,
   "id": "dd459454-6ed1-4a30-9641-9ec3f522f849",
   "metadata": {},
   "outputs": [],
   "source": [
    "# writing user prompt\n",
    "def get_brochure_user_prompt(uni_name, url):\n",
    "    user_prompt = f\"You are looking at a university called: {uni_name}\\n\"\n",
    "    user_prompt += f\"Here are the contents of its landing page and other relevant pages; use this information to build a short brochure of the university in markdown.\\n\"\n",
    "    user_prompt += get_all_details(url)\n",
    "    user_prompt = user_prompt[:5_000] # Truncate if more than 5,000 characters\n",
    "    return user_prompt"
   ]
  },
  {
   "cell_type": "code",
   "execution_count": 33,
   "id": "e8790b95-4a04-405f-bf18-c24483679e0b",
   "metadata": {},
   "outputs": [
    {
     "name": "stdout",
     "output_type": "stream",
     "text": [
      "Found links: {'links': [{'type': 'program page', 'url': 'https://www.harvard.edu//programs/?degree_levels=undergraduate'}, {'type': 'program page', 'url': 'https://www.harvard.edu//programs/?degree_levels=graduate'}, {'type': 'campus life', 'url': 'https://www.harvard.edu/campus/athletics/'}, {'type': 'campus life', 'url': 'https://www.harvard.edu/campus/museums/'}, {'type': 'campus life', 'url': 'https://www.harvard.edu/visit/'}, {'type': 'campus life', 'url': 'https://www.harvard.edu/visit/tours/'}, {'type': 'campus life', 'url': 'https://www.harvard.edu/visit/maps-directions/'}, {'type': 'admissions page', 'url': 'https://college.harvard.edu/'}, {'type': 'financial aid', 'url': 'https://www.harvard.edu/in-focus/'}]}\n"
     ]
    },
    {
     "data": {
      "text/plain": [
       "\"You are looking at a university called: Harvard\\nHere are the contents of its landing page and other relevant pages; use this information to build a short brochure of the university in markdown.\\nLanding page:\\nWebpage Title:\\nHarvard University\\nWebpage Contents:\\nSkip to main content\\nHarvard University\\nSearch\\nSearch\\nQuick Links\\nA to Z index\\nMenu\\nAcademics\\nAcademics\\nAcademics\\nLearning at Harvard can happen for every type of learner, at any phase of life.\\nDegree programs\\nAcademics\\nDegree programs\\nBrowse all of our undergraduate concentrations and  graduate degrees.\\nUndergraduate Degrees\\nGraduate Degrees\\nOther\\nProfessional and Lifelong Learning\\nHarvard Online\\nHarvard Schools\\nAcademics\\nVisit each School for information on admissions and financial aid.\\nExplore more\\nHarvard College\\nHarvard Business School\\nHarvard Division of Continuing Education\\nHarvard Divinity School\\nHarvard Faculty of Arts and Sciences\\nHarvard Kenneth C. Griffin Graduate School of Arts and Sciences\\nHarvard Graduate School of Design\\nHarvard Graduate School of Education\\nHarvard John A. Paulson School of Engineering and Applied Sciences\\nHarvard Kennedy School\\nHarvard Law School\\nHarvard Medical School\\nHarvard Radcliffe Institute\\nHarvard School of Dental Medicine\\nHarvard T.H. Chan School of Public Health\\nCampus\\nCampus\\nHarvard's Campus\\nGet tickets to our next game, hours and locations for our libraries and museums, and information about your next career move.\\nLibraries\\nCampus\\nExplore our libraries\\nArnold Arboretum Horticultural Library\\nBaker Library and Special Collections\\nBiblioteca Berenson\\nBotany Libraries\\nCabot Science Library\\nCountway Library\\nDumbarton Oaks Research Library\\nErnst Mayr Library\\nFine Arts Library\\nFrances Loeb Library\\nFung Library\\nGutman Library\\nHarvard Divinity School Library\\nHarvard Film Archive\\nHarvard Law School Library\\nHarvard Map Collection\\nHarvard University Archives\\nHarvard-Yenching Library\\nHKS Library and Knowledge Services\\nHoughton Library\\nLamont Library\\nLoeb Music Library\\nRobbins Library of Philosophy\\nSchlesinger Library on the History of Women in America\\nTozzer Library\\nWidener Library\\nWoodberry Poetry Room\\nMuseums\\nCampus\\nExplore our museums\\nThe Arnold Arboretum\\nCarpenter Center for the Visual Arts\\nCollection of Historical Scientific Instruments\\nGraduate School of Design Exhibitions\\nHarvard Art Museums\\nHarvard Forest\\nHarvard Museum of Natural History\\nThe Harvard Museum of the Ancient Near East\\nHarvard Museums of Science and Culture\\nHarvard University Herbaria\\nMineralogical and Geological Museum\\nMuseum of Comparative Zoology\\nThe Peabody Museum of Archaeology and Ethnology\\nWarren Anatomical Museum\\nAthletics\\nWork at Harvard\\nEvents\\nCommencement\\nIn Focus\\nIn Focus\\nIn Focus\\nExplore a curated examination of Harvard's research, scholarly work, and community. Recent topics include:\\nComputers\\nIn Focus\\nComputers\\nFrom designing America’s first programmable computer to creating the world’s first logical quantum processor, Harvard scholars have always pushed the limits of computer science.\\nBoot up and log in\\nWhat's inside?\\nHow did the Mark I computer change the way we think about science?\\nShould cellphones be allowed in schools?\\nCancer\\nIn Focus\\nCancer\\nHarvard researchers are exploring a holistic view of the disease, from fine tuning prevention and diagnosis to bolstering treatment and support.\\nExplore the research\\nWhat's inside?\\nAn artificial intelligence tool for cancer\\nA way to turn cancer cells into anti-cancer agents\\nResolutions\\nIn Focus\\nResolutions\\nWhether you want to make small improvements to your lifestyle or treat yourself to some useful knowledge, the Harvard community can help you start something new this year.\\nStart something new\\nWhat's inside?\\nTake a free online Harvard course\\nA guide to keeping your resolution\\nVisit\\nVisit\\nVisit Harvard\\nIdeas and assistance for your trip to our campus.\\nTours\\nMaps and directions\\nTour Providers\\nAbout\\nAbout\\nAbout Harvard\\nLearn how Harvard is structured, explore our long history, and discover our extended community.\\nHistory of Harvard\\nAbout\\nHistory of Harvard\\nHarvard is perhaps best-known because of its enduring history of innovation in education. But even die-hard Harvard buffs are not likely to know all of these Harvard firsts and historical snippets.\\nLearn more about Harvard's history\\nHistory timeline\\nNobel Laureates\\nHonorary Degrees\\nHarvard shields\\nLeadership and governance\\nAbout\\nLearn about our Leadership\\nPresident\\nOfficers and Deans\\nHarvard Corporation\\nBoard of Overseers\\nUniversity Professorships\\nDiversity and Inclusion\\nEndowment\\nHarvard in the Community\\nHarvard in the World\\nNews\\nNews\\nThe Harvard Gazette\\nOfficial news from Harvard University about science, medicine, art, campus life, University issues, and broader national and global concerns.\\nTrending News Stories\\nNews\\nRead more news\\nEating citrus may lower depression risk\\nPhysician-researcher outlines gut-brain clues behind ‘orange a day’ finding\\nWelcome to age of the will to ignorance\\nPolitical scientist, historian examines why so many em\""
      ]
     },
     "execution_count": 33,
     "metadata": {},
     "output_type": "execute_result"
    }
   ],
   "source": [
    "get_brochure_user_prompt(\"Harvard\", \"https://www.harvard.edu/\")"
   ]
  },
  {
   "cell_type": "code",
   "execution_count": 34,
   "id": "cf39728c-77e3-492d-8f9d-c43c9922428b",
   "metadata": {},
   "outputs": [],
   "source": [
    "# THE function to create the brochure\n",
    "def create_brochure(uni_name, url):\n",
    "    response = openai.chat.completions.create(\n",
    "        model=MODEL,\n",
    "        messages=[\n",
    "            {\"role\": \"system\", \"content\": system_prompt},\n",
    "            {\"role\": \"user\", \"content\": get_brochure_user_prompt(uni_name, url)}\n",
    "          ],\n",
    "    )\n",
    "    result = response.choices[0].message.content\n",
    "    display(Markdown(result))"
   ]
  },
  {
   "cell_type": "code",
   "execution_count": 36,
   "id": "50e98244-d7fa-469a-b9c7-285cb67cbada",
   "metadata": {},
   "outputs": [
    {
     "name": "stdout",
     "output_type": "stream",
     "text": [
      "Found links: {'links': [{'type': 'about', 'url': 'https://www.gatech.edu/about/vision'}, {'type': 'about', 'url': 'https://www.gatech.edu/about/values'}, {'type': 'campus life', 'url': 'https://www.gatech.edu/life/campus-life'}, {'type': 'student activities', 'url': 'https://www.gatech.edu/life/student-activities'}, {'type': 'program page', 'url': 'https://www.gatech.edu/academics/all-degree-programs'}, {'type': 'admissions page', 'url': 'https://www.gatech.edu/admission'}, {'type': 'admissions page', 'url': 'https://www.gatech.edu/admissions'}, {'type': 'visit page', 'url': 'https://admission.gatech.edu/visit/'}, {'type': 'financial aid', 'url': 'https://finaid.gatech.edu/'}, {'type': 'financial aid', 'url': 'https://finaid.gatech.edu/current-cost-overview'}, {'type': 'research opportunities', 'url': 'https://research.gatech.edu/'}, {'type': 'career services', 'url': 'https://career.gatech.edu/'}, {'type': 'international student resources', 'url': 'https://ea.oie.gatech.edu/'}, {'type': 'virtual tour', 'url': 'https://map.gatech.edu/'}]}\n"
     ]
    },
    {
     "data": {
      "text/markdown": [
       "# Georgia Institute of Technology Brochure\n",
       "\n",
       "Welcome to the Georgia Institute of Technology, commonly known as Georgia Tech! Located in the vibrant heart of Atlanta, Georgia, our university is renowned for its commitment to developing exceptional leaders who advance technology and improve the human condition. With a strong emphasis on innovation and research, Georgia Tech strives to transform tomorrow while giving students the tools they need to succeed today.\n",
       "\n",
       "## Campus Life\n",
       "\n",
       "At Georgia Tech, campus life is dynamic and engaging. Students enjoy a rich array of activities and experiences, from diverse student organizations to thrilling athletics. Explore the main campus, indulge in the lively traditions, and participate in events throughout the year. Whether you’re a part of the marching band, a club sports team, or one of our 400+ student organizations, there’s something for everyone. Join the cheering crowds at Bobby Dodd Stadium for football games or participate in intramural sports that promote fun and fitness. Georgia Tech fosters a supportive community that encourages personal growth and lifelong friendships.\n",
       "\n",
       "## Information for Prospective Students\n",
       "\n",
       "### Undergraduate Programs\n",
       "\n",
       "Georgia Tech offers a variety of undergraduate programs across several disciplines, including engineering, sciences, business, and design. With a commitment to academic rigor and hands-on experience, students are well-prepared for their careers. \n",
       "\n",
       "### Admission Requirements\n",
       "\n",
       "To apply to Georgia Tech, prospective students must submit an application, including standardized test scores, transcripts, and letters of recommendation. The admission process is competitive, focusing on academic performance, extracurricular involvement, and personal essays. Detailed requirements can be found on our admissions website.\n",
       "\n",
       "### Financial Aid & Scholarships\n",
       "\n",
       "Georgia Tech provides numerous financial aid opportunities to make education accessible to all. Scholarships, grants, and loans are available based on need and merit. Students are encouraged to apply for federal and state financial aid and explore scholarship options specific to their intended program.\n",
       "\n",
       "## Postgraduate and Professional Programs\n",
       "\n",
       "Georgia Tech also offers a wide range of postgraduate programs, including master’s degrees and certificates aimed at experienced professionals looking to advance their careers. These programs are designed for flexibility, accommodating full-time professionals who wish to continue their education, either on campus or through online learning options.\n",
       "\n",
       "## Student Resources\n",
       "\n",
       "We understand that a supportive environment enhances educational success. Georgia Tech offers various resources, including virtual tours for prospective students, academic advising, counseling services, and career support. Our online platforms provide a glimpse into campus life, academic programs, and the vibrant community awaiting you.\n",
       "\n",
       "### Why Choose Georgia Tech?\n",
       "\n",
       "At Georgia Tech, students are not just part of a university; they are part of a community that values innovation, collaboration, and leadership. Ranked as the No. 9 public university, Georgia Tech is committed to producing graduates who are equipped to tackle the challenges of tomorrow. Join us in shaping the future—choose Georgia Tech!\n",
       "\n",
       "--- \n",
       "\n",
       "For more information or to schedule a visit, please visit our website or contact the admissions office. We look forward to welcoming you to the Georgia Tech family!"
      ],
      "text/plain": [
       "<IPython.core.display.Markdown object>"
      ]
     },
     "metadata": {},
     "output_type": "display_data"
    }
   ],
   "source": [
    "create_brochure(\"Georgia Institute of Technology\", \"https://www.gatech.edu/\")"
   ]
  },
  {
   "cell_type": "code",
   "execution_count": 37,
   "id": "1fb65ea5-be48-4042-8eb7-eaf092f4297d",
   "metadata": {},
   "outputs": [
    {
     "name": "stdout",
     "output_type": "stream",
     "text": [
      "Found links: {'links': [{'type': 'program page', 'url': 'https://www.harvard.edu//programs/?degree_levels=undergraduate'}, {'type': 'program page', 'url': 'https://www.harvard.edu//programs/?degree_levels=graduate'}, {'type': 'campus life', 'url': 'https://www.harvard.edu/campus/athletics/'}, {'type': 'campus life', 'url': 'https://www.harvard.edu/campus/'}, {'type': 'campus life', 'url': 'https://www.harvard.edu/campus/museums/'}, {'type': 'admissions page', 'url': 'https://college.harvard.edu/'}, {'type': ' admissions page', 'url': 'https://www.harvard.edu/visit/'}, {'type': 'virtual tour', 'url': 'https://www.harvard.edu/visit/tours/'}, {'type': 'virtual tour', 'url': 'https://www.harvard.edu/visit/maps-directions/'}, {'type': 'financial aid', 'url': 'https://www.harvard.edu/about/diversity-and-inclusion/'}, {'type': 'program page', 'url': 'https://pll.harvard.edu/course/cs50-introduction-computer-science'}, {'type': 'research opportunities', 'url': 'https://www.harvard.edu/in-focus/artificial-intelligence/'}, {'type': 'research opportunities', 'url': 'https://harvardforest.fas.harvard.edu/'}, {'type': 'research opportunities', 'url': 'https://www.gse.harvard.edu/ideas/usable-knowledge/18/02/when-give-your-child-smartphone'}]}\n"
     ]
    },
    {
     "data": {
      "text/markdown": [
       "# Harvard University Brochure\n",
       "\n",
       "## Welcome to Harvard University\n",
       "\n",
       "Harvard University, located in Cambridge, Massachusetts, is a prestigious institution known for its commitment to academic excellence and research innovation. Established in 1636, Harvard stands as one of the oldest and most respected universities in the world, offering a diverse array of degree programs for learners at every stage of life.\n",
       "\n",
       "---\n",
       "\n",
       "## Campus Life\n",
       "\n",
       "At Harvard, campus life is vibrant and engaging, providing a dynamic atmosphere for personal and academic growth. The university boasts a stunning campus complete with extensive libraries, museums, and a diverse set of extracurricular activities. From athletics to arts, students have a plethora of opportunities to explore their interests and engage with the community.\n",
       "\n",
       "**Key Features:**\n",
       "- **Libraries:** Over 70 libraries, including the renowned Widener Library and Houghton Library.\n",
       "- **Museums:** Access to world-class museums such as the Harvard Art Museums and the Peabody Museum of Archaeology and Ethnology.\n",
       "- **Athletics:** Join one of Harvard’s many sports teams or enjoy recreational activities within the community.\n",
       "\n",
       "---\n",
       "\n",
       "## Undergraduate Programs\n",
       "\n",
       "Harvard offers a myriad of undergraduate concentrations which cater to a wide range of interests. From the humanities to sciences, students are encouraged to explore their passions deeply and broadly.\n",
       "\n",
       "### Admission Requirements\n",
       "Prospective undergraduate students should prepare for a rigorous admission process, which includes:\n",
       "- Completing the Common Application\n",
       "- Submitting standardized test scores (SAT or ACT) (Please check university policy for test-optional updates)\n",
       "- Providing high school transcripts and letters of recommendation\n",
       "\n",
       "---\n",
       "\n",
       "## Financial Aid\n",
       "\n",
       "Harvard is committed to making education accessible. The university offers need-blind admissions for domestic students, ensuring that financial circumstances do not hinder applicants. Financial aid packages are tailored to meet every student's need, with over 70% of undergraduates receiving financial assistance.\n",
       "\n",
       "---\n",
       "\n",
       "## Graduate and Professional Programs\n",
       "\n",
       "Harvard provides a multitude of graduate degrees and professional programs, including:\n",
       "- **Harvard Business School** \n",
       "- **Harvard Law School** \n",
       "- **Harvard Medical School**\n",
       "- **Harvard Kennedy School**\n",
       "\n",
       "These programs are designed for experienced professionals seeking to advance their careers or specialize further in their fields.\n",
       "\n",
       "---\n",
       "\n",
       "## Student Resources\n",
       "\n",
       "Harvard offers an array of resources to assist both prospective and current students:\n",
       "- **Virtual Tours:** Explore the beautiful campus from the comfort of your home.\n",
       "- **Career Services:** Attend workshops and network with industry leaders.\n",
       "- **Student Organizations:** Engage in over 400 student-run organizations, enhancing both your academic and social experience.\n",
       "\n",
       "---\n",
       "\n",
       "## Why Choose Harvard?\n",
       "\n",
       "Choosing Harvard University is about embracing a legacy of knowledge, innovation, and excellence. With a diverse international community, unmatched resources, and a commitment to developing leaders for the global stage, Harvard is not just a place to learn; it's a place to thrive.\n",
       "\n",
       "Join us at Harvard and unlock your potential today!"
      ],
      "text/plain": [
       "<IPython.core.display.Markdown object>"
      ]
     },
     "metadata": {},
     "output_type": "display_data"
    }
   ],
   "source": [
    "create_brochure(\"Harvard University\", \"https://www.harvard.edu/\")"
   ]
  },
  {
   "cell_type": "markdown",
   "id": "d9f35135-7e00-4b3a-afdc-fdf9616f02b9",
   "metadata": {},
   "source": [
    "# Generate the brochure in entirely new language!"
   ]
  },
  {
   "cell_type": "markdown",
   "id": "f9bd35fe-62f7-40e4-9d52-e7a7062a3c3a",
   "metadata": {},
   "source": [
    "Now, I will modify the system prompt a bit to generate the brochure in Korean!"
   ]
  },
  {
   "cell_type": "code",
   "execution_count": 38,
   "id": "8aa5c70d-d5e9-4d95-a78c-4580fc126bc2",
   "metadata": {},
   "outputs": [],
   "source": [
    "kr_system_prompt = \"You are an AI assistant that analyzes the contents of several relevant pages from a university website. \\\n",
    "and creates a short brochure about the university for prospective students. Respond in markdown.\\\n",
    "Generate the entire brochure in Korean language. \\\n",
    "Write the brochure by starting with the introduction to the university, Campus Life. \\\n",
    "And then follow up with information for prospective students for undergraduate programs, admission requirements, financial aids. \\\n",
    "Then follow up with postgrad and other programs for experienced professionals. \\\n",
    "Conclude with student resources such as virtual tours and highlight why this is the best choice students can make.\""
   ]
  },
  {
   "cell_type": "code",
   "execution_count": 39,
   "id": "34e87e05-89d2-4249-aadd-d23e06483881",
   "metadata": {},
   "outputs": [],
   "source": [
    "# update the function to create the brochure\n",
    "def create_brochure_in_kr(uni_name, url):\n",
    "    response = openai.chat.completions.create(\n",
    "        model=MODEL,\n",
    "        messages=[\n",
    "            {\"role\": \"system\", \"content\": kr_system_prompt},\n",
    "            {\"role\": \"user\", \"content\": get_brochure_user_prompt(uni_name, url)}\n",
    "          ],\n",
    "    )\n",
    "    result = response.choices[0].message.content\n",
    "    display(Markdown(result))"
   ]
  },
  {
   "cell_type": "code",
   "execution_count": 40,
   "id": "328c66c3-f788-4fb3-9d28-4dcf7f4045af",
   "metadata": {},
   "outputs": [
    {
     "name": "stdout",
     "output_type": "stream",
     "text": [
      "Found links: {'links': [{'type': 'program page', 'url': 'https://www.gatech.edu/academics/all-degree-programs'}, {'type': 'admissions page', 'url': 'https://www.gatech.edu/admission'}, {'type': 'admissions page', 'url': 'https://admission.gatech.edu/visit/'}, {'type': 'financial aid', 'url': 'https://finaid.gatech.edu/current-cost-overview'}, {'type': 'financial aid', 'url': 'https://finaid.gatech.edu/'}, {'type': 'campus life', 'url': 'https://www.gatech.edu/life/campus-life'}, {'type': 'campus life', 'url': 'https://www.gatech.edu/life/student-activities'}, {'type': 'research opportunities', 'url': 'https://research.gatech.edu/'}, {'type': 'career services', 'url': 'https://career.gatech.edu/'}, {'type': 'international student resources', 'url': 'https://ea.oie.gatech.edu/'}, {'type': 'virtual tour', 'url': 'https://map.gatech.edu/'}]}\n"
     ]
    },
    {
     "data": {
      "text/markdown": [
       "# 조지아 공과대학교 브로셔\n",
       "\n",
       "## 대학 소개\n",
       "조지아 공과대학교(Georgia Institute of Technology, Georgia Tech)는 세계적인 공학 및 기술 교육 기관으로, 뛰어난 연구 환경과 혁신적인 학문을 통해 인재를 양성하고 있습니다. 조지아주 애틀랜타에 위치한 이 대학은 다채로운 전공과 프로그램을 통해 학생들에게 글로벌 리더로 성장할 기회를 제공합니다.\n",
       "\n",
       "## 캠퍼스 생활\n",
       "조지아 공과대학교의 캠퍼스 생활은 활기차고 다양합니다. 학생들은 다양한 학생 활동에 참여하고, 다채로운 스포츠 이벤트에 열기를 더하며, 학술 연구와 사회 활동에 적극적으로 임하고 있습니다. 학생들은 새로운 친구를 만나고, 특별한 경험을 통해 개인적 성장을 이루어나갈 수 있습니다.\n",
       "\n",
       "## 예비 학생을 위한 정보\n",
       "\n",
       "### 학부 프로그램\n",
       "조지아 공과대학교는 공학, 디자인, 컴퓨터 과학, 경영학 등 다양한 전공을 제공하여 각 학생의 흥미와 목표에 맞는 교육을 실시합니다.\n",
       "\n",
       "### 입학 요건\n",
       "입학 요건은 전공에 따라 다를 수 있으며, 전반적인 학업 성적, 표준화 시험 점수, 추천서 및 자기소개서를 포함합니다. 자세한 사항은 학교의 공식 웹사이트를 참조하시기 바랍니다.\n",
       "\n",
       "### 재정 지원\n",
       "재정 지원 및 장학금 기회도 풍부하여, 수업료와 관련 비용을 보다 쉽게 해결할 수 있도록 돕고 있습니다. 학생들은 또한 다양한 장학금 프로그램에 신청하여 재정적 부담을 줄일 수 있습니다.\n",
       "\n",
       "## 대학원의 전문 프로그램\n",
       "조지아 공과대학교는 경력 있는 전문가들을 위한 다양한 석사 및 박사 과정도 운영하고 있습니다. 이러한 프로그램은 고급 기술 및 전문성을 지속적으로 개발하고자 하는 임직원에게 적합합니다.\n",
       "\n",
       "## 학생 자원\n",
       "조지아 공과대학교에서는 가상 캠퍼스 투어를 제공하여, 학생들이 대학의 시설과 환경을 사전에 경험할 수 있도록 하고 있습니다. 더불어, 각종 자료와 지원 서비스를 통해 학생들의 성공적인 학업 생활을 지원합니다.\n",
       "\n",
       "## 최고의 선택\n",
       "조지아 공과대학교는 세계 수준의 교육, 혁신적인 캠퍼스 생활, 강력한 네트워크와 커뮤니티를 갖춘 곳입니다. 여러분의 미래를 위해 최고의 선택이 될 것입니다. 오늘 조지아 공과대학교에 지원하여 새로운 시작을 만들어보세요!"
      ],
      "text/plain": [
       "<IPython.core.display.Markdown object>"
      ]
     },
     "metadata": {},
     "output_type": "display_data"
    }
   ],
   "source": [
    "create_brochure_in_kr(\"Georgia Institute of Technology\", \"https://www.gatech.edu/\")"
   ]
  },
  {
   "cell_type": "markdown",
   "id": "50463ee5-8658-4f2e-8a76-e91efa852f3c",
   "metadata": {},
   "source": [
    "**Final remarks:**\n",
    "\n",
    "There you have it! This is how you can use OpenAI or AI agents to easily produce a marketing brochure for a university in a relatively short amount of time!!"
   ]
  },
  {
   "cell_type": "code",
   "execution_count": null,
   "id": "6a8210e3-2a6b-4e8d-9fd9-b7e9814f457f",
   "metadata": {},
   "outputs": [],
   "source": []
  }
 ],
 "metadata": {
  "kernelspec": {
   "display_name": "Python 3 (ipykernel)",
   "language": "python",
   "name": "python3"
  },
  "language_info": {
   "codemirror_mode": {
    "name": "ipython",
    "version": 3
   },
   "file_extension": ".py",
   "mimetype": "text/x-python",
   "name": "python",
   "nbconvert_exporter": "python",
   "pygments_lexer": "ipython3",
   "version": "3.11.11"
  }
 },
 "nbformat": 4,
 "nbformat_minor": 5
}
